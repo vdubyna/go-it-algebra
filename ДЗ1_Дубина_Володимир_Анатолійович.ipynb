{
 "nbformat": 4,
 "nbformat_minor": 0,
 "metadata": {
  "colab": {
   "provenance": [],
   "collapsed_sections": [
    "mbmam7xBKWRj"
   ]
  },
  "kernelspec": {
   "name": "python3",
   "display_name": "Python 3 (ipykernel)",
   "language": "python"
  },
  "language_info": {
   "name": "python"
  }
 },
 "cells": [
  {
   "cell_type": "markdown",
   "source": [
    "# Нагадування по Markdown"
   ],
   "metadata": {
    "id": "mbmam7xBKWRj"
   }
  },
  {
   "cell_type": "markdown",
   "source": [
    "Надаємо невелике нагадування записів в\n",
    "[Markdown](https://colab.research.google.com/notebooks/markdown_guide.ipynb) (LaTeX):\n",
    "\n",
    "Markdown | Preview\n",
    "--- | ---\n",
    "`**bold text**` | **bold text**\n",
    " \\\\$\\frac{x}{y}\\\\$ | $\\frac{x}{y}$\n",
    " \\\\$p^{x}_{y}\\\\$ | $p^{x}_{y}$\n",
    "\\\\$x \\cdot y\\\\$ | $x \\cdot y$\n",
    "\\\\$\\sqrt{x}\\\\$ | $\\sqrt{x}$\n",
    "\\\\$\\pi\\\\$ | $\\pi$\n",
    "\\\\$\\approx\\\\$ | $\\approx$\n",
    "\n",
    "І ще декілька прикладів:\n",
    "\n",
    "```markdown\n",
    "$y=x^2$\n",
    "\n",
    "$e^{i\\pi} + 1 = 0$\n",
    "\n",
    "$e^x=\\sum_{i=0}^\\infty \\frac{1}{i!}x^i$\n",
    "\n",
    "$\\frac{n!}{k!(n-k)!} = {n \\choose k}$\n",
    "\n",
    "$A_{m,n} =\n",
    " \\begin{pmatrix}\n",
    "  a_{1,1} & a_{1,2} & \\cdots & a_{1,n} \\\\\n",
    "  a_{2,1} & a_{2,2} & \\cdots & a_{2,n} \\\\\n",
    "  \\vdots  & \\vdots  & \\ddots & \\vdots  \\\\\n",
    "  a_{m,1} & a_{m,2} & \\cdots & a_{m,n}\n",
    " \\end{pmatrix}$\n",
    "\n",
    " $$\n",
    " I =\n",
    " \\left (\\begin{array}{cc}\n",
    " 1 & 0\\\\\n",
    " 0 & 1\n",
    " \\end{array}\\right)\n",
    " $$\n",
    "```\n",
    "\n",
    "$y=x^2$\n",
    "\n",
    "$e^{i\\pi} + 1 = 0$\n",
    "\n",
    "$e^x=\\sum_{i=0}^\\infty \\frac{1}{i!}x^i$\n",
    "\n",
    "$\\frac{n!}{k!(n-k)!} = {n \\choose k}$\n",
    "\n",
    "$A_{m,n} =\n",
    " \\begin{pmatrix}\n",
    "  a_{1,1} & a_{1,2} & \\cdots & a_{1,n} \\\\\n",
    "  a_{2,1} & a_{2,2} & \\cdots & a_{2,n} \\\\\n",
    "  \\vdots  & \\vdots  & \\ddots & \\vdots  \\\\\n",
    "  a_{m,1} & a_{m,2} & \\cdots & a_{m,n}\n",
    " \\end{pmatrix}$\n",
    "\n",
    "$I =\n",
    "\\left (\\begin{array}{cc}\n",
    "1 & 0\\\\\n",
    "0 & 1\n",
    "\\end{array}\\right)$\n",
    " ---"
   ],
   "metadata": {
    "id": "WKbf0DcrKYHi"
   }
  },
  {
   "cell_type": "markdown",
   "source": [
    "# Завдання 1.\n",
    "В шаблоні наведені числові вектори $\\overline{a}$ та $\\overline{b}$. Порахуй наступне:\n",
    "- сума $\\overline{a}$ та $\\overline{b}$\n",
    "- різниця $\\overline{a}$ та $\\overline{b}$\n",
    "- сума $\\overline{a}$ та $\\overline{b}^T$. Поясни отриманий результат.\n",
    "- матричний добуток (dot product) $\\overline{a}$ та $\\overline{b}^T$.\n",
    "- матричний добуток (dot product) $\\overline{a}$ та $\\overline{b}$. Поясни отриманий результат.\n",
    "- добуток Адамара (Hadamard product) $\\overline{a}$ та $\\overline{b}$. Поясни отриманий результат.\n",
    "- ділення $\\overline{a}$ та $\\overline{b}$. Поясни отриманий результат.\n",
    "- ділення $\\overline{a}$ та $\\overline{b}^T$. Поясни отриманий результат."
   ],
   "metadata": {
    "id": "AQsl6FeF0Sq3"
   }
  },
  {
   "cell_type": "code",
   "source": [
    "import numpy as np\n",
    "# Код оголошення векторів не можна змінювати\n",
    "a = np.array([[1, 2, 3, 4, 5]])\n",
    "b = np.array([[1/2, 1, 2, 3, 4]])"
   ],
   "metadata": {
    "id": "x_pAAV5I0Rqg",
    "ExecuteTime": {
     "end_time": "2024-08-25T13:44:30.105917Z",
     "start_time": "2024-08-25T13:44:30.102582Z"
    }
   },
   "outputs": [],
   "execution_count": 17
  },
  {
   "cell_type": "code",
   "source": [
    "res = a + b\n",
    "res"
   ],
   "metadata": {
    "id": "-TcDgKRB0n-s",
    "ExecuteTime": {
     "end_time": "2024-08-25T13:43:39.495639Z",
     "start_time": "2024-08-25T13:43:39.491643Z"
    }
   },
   "outputs": [
    {
     "data": {
      "text/plain": [
       "array([[1.5, 3. , 5. , 7. , 9. ]])"
      ]
     },
     "execution_count": 12,
     "metadata": {},
     "output_type": "execute_result"
    }
   ],
   "execution_count": 12
  },
  {
   "cell_type": "code",
   "source": [
    "res = a - b\n",
    "res"
   ],
   "metadata": {
    "id": "CcIk7MVQ1xgq",
    "ExecuteTime": {
     "end_time": "2024-08-25T13:43:41.283772Z",
     "start_time": "2024-08-25T13:43:41.280225Z"
    }
   },
   "outputs": [
    {
     "data": {
      "text/plain": [
       "array([[0.5, 1. , 1. , 1. , 1. ]])"
      ]
     },
     "execution_count": 13,
     "metadata": {},
     "output_type": "execute_result"
    }
   ],
   "execution_count": 13
  },
  {
   "cell_type": "code",
   "source": [
    "# Пояснення: Після транспонування вектора b ми додаємо його до вектора a. Оскільки a - це рядковий вектор, а b.T - стовпчиковий вектор, відбувається додавання кожного елемента рядка a до кожного елемента стовпця b.T. В результаті ми отримуємо 5x5 матрицю.\n",
    "res = a + b.T\n",
    "res"
   ],
   "metadata": {
    "id": "exb6q60N0uFv",
    "ExecuteTime": {
     "end_time": "2024-08-25T13:43:42.553681Z",
     "start_time": "2024-08-25T13:43:42.550405Z"
    }
   },
   "outputs": [
    {
     "data": {
      "text/plain": [
       "array([[1.5, 2.5, 3.5, 4.5, 5.5],\n",
       "       [2. , 3. , 4. , 5. , 6. ],\n",
       "       [3. , 4. , 5. , 6. , 7. ],\n",
       "       [4. , 5. , 6. , 7. , 8. ],\n",
       "       [5. , 6. , 7. , 8. , 9. ]])"
      ]
     },
     "execution_count": 14,
     "metadata": {},
     "output_type": "execute_result"
    }
   ],
   "execution_count": 14
  },
  {
   "cell_type": "code",
   "source": [
    "res = np.dot(a, b.T)\n",
    "res"
   ],
   "metadata": {
    "id": "oZB7Kx5_1c29",
    "ExecuteTime": {
     "end_time": "2024-08-25T13:44:20.112932Z",
     "start_time": "2024-08-25T13:44:20.109699Z"
    }
   },
   "outputs": [
    {
     "data": {
      "text/plain": [
       "array([[40.5]])"
      ]
     },
     "execution_count": 15,
     "metadata": {},
     "output_type": "execute_result"
    }
   ],
   "execution_count": 15
  },
  {
   "cell_type": "code",
   "source": [
    "# Пояснення: Ця операція неможлива тому що кількість стовпців вектора а відповідала кількості рядків вектора b, а це можливо тільки після його транспонування як у попередньому випадку \n",
    "res = np.dot(a, b.T) \n",
    "res"
   ],
   "metadata": {
    "id": "PbRyd3630xud",
    "ExecuteTime": {
     "end_time": "2024-08-25T14:04:29.736948Z",
     "start_time": "2024-08-25T14:04:29.720397Z"
    }
   },
   "outputs": [
    {
     "data": {
      "text/plain": [
       "array([[40.5]])"
      ]
     },
     "execution_count": 22,
     "metadata": {},
     "output_type": "execute_result"
    }
   ],
   "execution_count": 22
  },
  {
   "cell_type": "code",
   "source": [
    "# Пояснення: Добуток Адамара (Hadamard product, elementwise multiplication) - це операція, де кожен елемент однієї матриці множиться на відповідний елемент іншої матриці. Основною вимогою для добутку Адамара є то, що обидві матриці повинні мати однаковий розмір. Результатом є нова матриця, де кожний елемент є добутком відповідних елементів вихідних матриць.\n",
    "res = np.multiply(a, b)\n",
    "res"
   ],
   "metadata": {
    "id": "QPHTXr83ly7o",
    "ExecuteTime": {
     "end_time": "2024-08-25T14:07:23.349814Z",
     "start_time": "2024-08-25T14:07:23.345054Z"
    }
   },
   "outputs": [
    {
     "data": {
      "text/plain": [
       "array([[ 0.5,  2. ,  6. , 12. , 20. ]])"
      ]
     },
     "execution_count": 23,
     "metadata": {},
     "output_type": "execute_result"
    }
   ],
   "execution_count": 23
  },
  {
   "cell_type": "code",
   "source": [
    "# Пояснення: це поелементне ділення, тобто кожний елемент вектора a буде поділено на відповідний елемент вектора b.\n",
    "res = np.divide(a, b)\n",
    "res"
   ],
   "metadata": {
    "id": "9mAIEbkQ1pJH",
    "ExecuteTime": {
     "end_time": "2024-08-25T13:52:05.381764Z",
     "start_time": "2024-08-25T13:52:05.379018Z"
    }
   },
   "outputs": [
    {
     "data": {
      "text/plain": [
       "array([[2.        , 2.        , 1.5       , 1.33333333, 1.25      ]])"
      ]
     },
     "execution_count": 20,
     "metadata": {},
     "output_type": "execute_result"
    }
   ],
   "execution_count": 20
  },
  {
   "cell_type": "code",
   "source": [
    "# Пояснення: Поелементне ділення неможливе тому np автоматично розширює менший масив, так, щоб операція могла виконуватись поелементно.  \n",
    "res = np.divide(a, b.T)\n",
    "res"
   ],
   "metadata": {
    "id": "pozfWRdc1qF9",
    "ExecuteTime": {
     "end_time": "2024-08-25T14:23:31.308822Z",
     "start_time": "2024-08-25T14:23:31.305744Z"
    }
   },
   "outputs": [
    {
     "data": {
      "text/plain": [
       "array([[ 2.        ,  4.        ,  6.        ,  8.        , 10.        ],\n",
       "       [ 1.        ,  2.        ,  3.        ,  4.        ,  5.        ],\n",
       "       [ 0.5       ,  1.        ,  1.5       ,  2.        ,  2.5       ],\n",
       "       [ 0.33333333,  0.66666667,  1.        ,  1.33333333,  1.66666667],\n",
       "       [ 0.25      ,  0.5       ,  0.75      ,  1.        ,  1.25      ]])"
      ]
     },
     "execution_count": 25,
     "metadata": {},
     "output_type": "execute_result"
    }
   ],
   "execution_count": 25
  },
  {
   "cell_type": "markdown",
   "source": [
    "# Завдання 2\n",
    "В цьому завданні ти навчишся перетворювати вектори за допомогою афінних перетворень.  \n",
    "Дано вектор:\n",
    "$$\n",
    "x =\n",
    "\\left(\\begin{array}{cc}\n",
    "2\\\\\n",
    "1\n",
    "\\end{array}\\right)\n",
    "$$\n",
    "\n",
    "\n",
    "Виконай аналітично наступні завдання задавши матрицю перетворення та застосуй її до вектора $x$:\n",
    "\n",
    "1. Зменши вектор $x$ в 2 рази по вісі $OX$ та збільш в 3 рази по вісі $OY$.\n",
    "2. Відобрази вектор $x$ відносно початку координат.\n",
    "3. Перенеси вектор $x$ на -3 по вісі $OX$ та на 1 по вісі $OY$.\n",
    "4. Змісти вектор $x$ на 60° по вісі $OY$.\n",
    "5. Поверни вектор $x$ на 30°.\n",
    "6. Об'єднай перетворення з кроків 1, 2, 4, 5 в одну матрицю та застосуй її до вектору $x$."
   ],
   "metadata": {
    "id": "W-FFJ2oK0TTF"
   }
  },
  {
   "cell_type": "markdown",
   "source": [],
   "metadata": {
    "id": "coRcpu8kgMqh"
   }
  },
  {
   "cell_type": "markdown",
   "source": [
    "#### 2.1 Зменши вектор  $x$  в 2 рази по вісі  OX  та збільш в 3 рази по вісі  OY ."
   ],
   "metadata": {
    "id": "6G4BWKMB33NV"
   }
  },
  {
   "cell_type": "markdown",
   "source": [
    "$$\n",
    "M_1 =\n",
    "\\left (\\begin{array}{cc}\n",
    "1/2 & 0\\\\\n",
    "0 & 3\n",
    "\\end{array}\\right)\n",
    "$$\n",
    "\n",
    "$$\n",
    "M_1x =\n",
    "\\left(\\begin{array}{cc}\n",
    "1/2& 0\\\\\n",
    "0 & 3\n",
    "\\end{array}\\right)\n",
    "\\left (\\begin{array}{cc}\n",
    "2\\\\\n",
    "1\n",
    "\\end{array}\\right)=\n",
    "\\left(\\begin{array}{cc}\n",
    "1/2 \\cdot 2 + 0 \\cdot 1\\\\\n",
    "0 \\cdot 2 + 3 \\cdot 1\n",
    "\\end{array}\\right)=\n",
    "\\left(\\begin{array}{cc}\n",
    "1\\\\\n",
    "3\n",
    "\\end{array}\\right)\n",
    "$$"
   ],
   "metadata": {
    "id": "_BvcoZCyg8nk"
   }
  },
  {
   "cell_type": "markdown",
   "source": [
    "#### 2.2 Відобрази вектор $x$ відносно початку координат."
   ],
   "metadata": {
    "id": "Rlhpc8-24M9k"
   }
  },
  {
   "cell_type": "markdown",
   "source": [
    "$$\n",
    "\\[\n",
    "M_2 = \\left(\\begin{array}{cc}\n",
    "-1 & 0\\\\\n",
    "0 & -1\n",
    "\\end{array}\\right)\n",
    "\\\\\n",
    "\\]\n",
    "\\\\\n",
    "\\[\n",
    "M_2 x = \\left(\\begin{array}{cc}\n",
    "-1 & 0 \\\\\n",
    "0 & -1\n",
    "\\end{array}\\right)\n",
    "\\left(\\begin{array}{c}\n",
    "2 \\\\\n",
    "1\n",
    "\\end{array}\\right)\n",
    "\\]\n",
    "\\\\\n",
    "\\[\n",
    "M_2 x = \\left(\\begin{array}{c}\n",
    "-2 \\\\\n",
    "-1\n",
    "\\end{array}\\right)\n",
    "\\]\n",
    "$$"
   ],
   "metadata": {
    "id": "35Ld0CHYgsXY"
   }
  },
  {
   "cell_type": "markdown",
   "source": [
    "#### 2.3 Перенеси вектор $x$, задавши відповідну матрицю і помноживши на неї,  на -3 по вісі $OX$ та на 1 по вісі $OY$."
   ],
   "metadata": {
    "id": "V5AiNUx14MvZ"
   }
  },
  {
   "cell_type": "markdown",
   "source": [
    "$$\n",
    "\n",
    "\\[\n",
    "M_3 = \\left(\\begin{array}{ccc}\n",
    "1 & 0 & -3 \\\\\n",
    "0 & 1 & 1 \\\\\n",
    "0 & 0 & 1\n",
    "\\end{array}\\right)\n",
    "\\]\n",
    "\\\\\n",
    "\\[\n",
    "x = \\left(\\begin{array}{c} 2 \\\\ 1 \\\\ 1 \\end{array}\\right)\n",
    "\\]\n",
    "\\\\\n",
    "\\[\n",
    "M_3 x = \\left(\\begin{array}{ccc}\n",
    "1 & 0 & -3 \\\\\n",
    "0 & 1 & 1 \\\\\n",
    "0 & 0 & 1\n",
    "\\end{array}\\right)\n",
    "\\left(\\begin{array}{c}\n",
    "2 \\\\\n",
    "1 \\\\\n",
    "1\n",
    "\\end{array}\\right)\n",
    "\\]\n",
    "\\\\\n",
    "\\[\n",
    "M_3 x = \\left(\\begin{array}{c}\n",
    "-1 \\\\\n",
    "2 \\\\\n",
    "1\n",
    "\\end{array}\\right)\n",
    "\\]\n",
    "$$"
   ],
   "metadata": {
    "id": "qtzBmsNcgpQA"
   }
  },
  {
   "cell_type": "markdown",
   "source": [
    "#### 2.4 Змісти вектор $x$ на 60° по вісі $OY$.\n"
   ],
   "metadata": {
    "id": "VfjTQ4li9Neq"
   }
  },
  {
   "cell_type": "markdown",
   "source": [
    "$$\n",
    "M_4 = \\left(\\begin{array}{cc}\n",
    "\\cos(60^\\circ) & -\\sin(60^\\circ) \\\\\n",
    "\\sin(60^\\circ) & \\cos(60^\\circ)\n",
    "\\end{array}\\right)\n",
    "\\\\\n",
    "M_4 = \\left(\\begin{array}{cc}\n",
    "\\frac{1}{2} & -\\frac{\\sqrt{3}}{2} \\\\\n",
    "\\frac{\\sqrt{3}}{2} & \\frac{1}{2}\n",
    "\\end{array}\\right)\n",
    "\\\\\n",
    "M_4x = \\left(\\begin{array}{cc}\n",
    "\\frac{1}{2} & -\\frac{\\sqrt{3}}{2} \\\\\n",
    "\\frac{\\sqrt{3}}{2} & \\frac{1}{2}\n",
    "\\end{array}\\right)\n",
    "\\left(\\begin{array}{c}\n",
    "2 \\\\\n",
    "1\n",
    "\\end{array}\\right)\n",
    "\\\\\n",
    "M_4 x = \\left(\\begin{array}{c}\n",
    "1 - \\frac{\\sqrt{3}}{2} \\\\\n",
    "\\sqrt{3} + \\frac{1}{2}\n",
    "\\end{array}\\right)\n",
    "\n",
    "\n",
    "$$\n",
    "\n"
   ],
   "metadata": {
    "id": "1-0_aTZiglze"
   }
  },
  {
   "cell_type": "markdown",
   "source": [
    "#### 2.5 Поверни вектор $x$ на 30°."
   ],
   "metadata": {
    "id": "F5dbVgGr9RCD"
   }
  },
  {
   "cell_type": "markdown",
   "source": [
    "$$\n",
    "\\[\n",
    "M_5 = \\left(\\begin{array}{cc}\n",
    "\\cos(30^\\circ) & -\\sin(30^\\circ) \\\\\n",
    "\\sin(30^\\circ) & \\cos(30^\\circ)\n",
    "\\end{array}\\right)\n",
    "\\]\n",
    "\\\\\n",
    "\\[\n",
    "M_5 = \\left(\\begin{array}{cc}\n",
    "\\frac{\\sqrt{3}}{2} & -\\frac{1}{2} \\\\\n",
    "\\frac{1}{2} & \\frac{\\sqrt{3}}{2}\n",
    "\\end{array}\\right)\n",
    "\\]\n",
    "\\\\\n",
    "\\[\n",
    "M_5 x = \\left(\\begin{array}{cc}\n",
    "\\frac{\\sqrt{3}}{2} & -\\frac{1}{2} \\\\\n",
    "\\frac{1}{2} & \\frac{\\sqrt{3}}{2}\n",
    "\\end{array}\\right)\n",
    "\\left(\\begin{array}{c}\n",
    "2 \\\\\n",
    "1\n",
    "\\end{array}\\right)\n",
    "\\]\n",
    "\\\\\n",
    "\\[\n",
    "M_5 x = \\left(\\begin{array}{c}\n",
    "\\sqrt{3} - \\frac{1}{2} \\\\\n",
    "1 + \\frac{\\sqrt{3}}{2}\n",
    "\\end{array}\\right)\n",
    "\\]\n",
    "$$"
   ],
   "metadata": {
    "id": "ABCk4cPhg2Zp"
   }
  },
  {
   "cell_type": "markdown",
   "source": [
    "#### 2.6 Об'єднай перетворення з кроків 1, 2, 4, 5 в одну матрицю та застосуй її до вектору $x$."
   ],
   "metadata": {
    "id": "nXJQVzee9RTp"
   }
  },
  {
   "cell_type": "markdown",
   "source": [
    "$$\n",
    "M_6 = M_5 \\cdot M_4 \\cdot M_2 \\cdot M_1 = \n",
    "\\\\\n",
    "\\[\n",
    "M_2 \\cdot M_1 = \\left(\\begin{array}{cc}\n",
    "-1 & 0 \\\\\n",
    "0 & -1\n",
    "\\end{array}\\right)\n",
    "\\left(\\begin{array}{cc}\n",
    "\\frac{1}{2} & 0 \\\\\n",
    "0 & 3\n",
    "\\end{array}\\right) =\n",
    "\\left(\\begin{array}{cc}\n",
    "-\\frac{1}{2} & 0 \\\\\n",
    "0 & -3\n",
    "\\end{array}\\right)\n",
    "\\]\n",
    "\\\\\n",
    "\\[\n",
    "M_4 \\cdot M_2M_1 = \\left(\\begin{array}{cc}\n",
    "\\frac{1}{2} & -\\frac{\\sqrt{3}}{2} \\\\\n",
    "\\frac{\\sqrt{3}}{2} & \\frac{1}{2}\n",
    "\\end{array}\\right)\n",
    "\\left(\\begin{array}{cc}\n",
    "-\\frac{1}{2} & 0 \\\\\n",
    "0 & -3\n",
    "\\end{array}\\right) =\n",
    "\\left(\\begin{array}{cc}\n",
    "-\\frac{1}{4} & \\frac{3\\sqrt{3}}{2} \\\\\n",
    "-\\frac{\\sqrt{3}}{4} & -\\frac{3}{2}\n",
    "\\end{array}\\right)\n",
    "\\]\n",
    "\\\\\n",
    "\\[\n",
    "M_5 \\cdot (M_4 \\cdot M_2 \\cdot M_1) = \\left(\\begin{array}{cc}\n",
    "\\frac{\\sqrt{3}}{2} & -\\frac{1}{2} \\\\\n",
    "\\frac{1}{2} & \\frac{\\sqrt{3}}{2}\n",
    "\\end{array}\\right)\n",
    "\\left(\\begin{array}{cc}\n",
    "-\\frac{1}{4} & \\frac{3\\sqrt{3}}{2} \\\\\n",
    "-\\frac{\\sqrt{3}}{4} & -\\frac{3}{2}\n",
    "\\end{array}\\right)\n",
    "\\]\n",
    "\\\\\n",
    "\\[\n",
    "M_6 = \\left(\\begin{array}{cc}\n",
    "0 & 3 \\\\\n",
    "-1/2 & 0\n",
    "\\end{array}\\right)\n",
    "\\]\n",
    "\n",
    "$$"
   ],
   "metadata": {
    "id": "NzEYWaaZHUGm"
   }
  },
  {
   "cell_type": "markdown",
   "source": [
    "$$\n",
    "\\[\n",
    "M_6 x = \\left(\\begin{array}{cc}\n",
    "0 & 3 \\\\\n",
    "-\\frac{1}{2} & 0\n",
    "\\end{array}\\right)\n",
    "\\left(\\begin{array}{c}\n",
    "2 \\\\\n",
    "1\n",
    "\\end{array}\\right) =\n",
    "\\left(\\begin{array}{c}\n",
    "0 \\cdot 2 + 3 \\cdot 1 \\\\\n",
    "-\\frac{1}{2} \\cdot 2 + 0 \\cdot 1\n",
    "\\end{array}\\right) =\n",
    "\\left(\\begin{array}{c}\n",
    "3 \\\\\n",
    "-1\n",
    "\\end{array}\\right)\n",
    "\\]\n",
    "$$"
   ],
   "metadata": {
    "id": "483K8PxWY0Na"
   }
  },
  {
   "cell_type": "markdown",
   "source": [
    "# Завдання 2 (Альтернативне)"
   ],
   "metadata": {
    "id": "4Hskh6fFb89N"
   }
  },
  {
   "cell_type": "code",
   "source": [
    "import cv2 as cv\n",
    "import urllib\n",
    "import numpy as np\n",
    "from google.colab.patches import cv2_imshow as cv_imshow\n",
    "\n",
    "# Read an image\n",
    "def read_image_by_url(url):\n",
    "    req = urllib.request.urlopen(url)\n",
    "    arr = np.asarray(bytearray(req.read()), dtype=np.uint8)\n",
    "    img = cv.imdecode(arr, -1)\n",
    "    return img\n",
    "\n",
    "url = ''\n",
    "\n",
    "img = read_image_by_url(url)"
   ],
   "metadata": {
    "id": "T9X-m9XvdlPK"
   },
   "execution_count": null,
   "outputs": []
  },
  {
   "cell_type": "code",
   "source": [
    "cv_imshow(img)"
   ],
   "metadata": {
    "id": "3oDsfgd25Rx7"
   },
   "execution_count": null,
   "outputs": []
  },
  {
   "cell_type": "code",
   "source": [],
   "metadata": {
    "id": "XmpNfQZpira8"
   },
   "execution_count": null,
   "outputs": []
  }
 ]
}
