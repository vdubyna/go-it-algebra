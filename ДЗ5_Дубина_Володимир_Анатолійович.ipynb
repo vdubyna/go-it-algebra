{
 "cells": [
  {
   "metadata": {},
   "cell_type": "markdown",
   "source": "",
   "id": "617304242e30c135"
  },
  {
   "metadata": {},
   "cell_type": "markdown",
   "source": "Домашнє завдання. Похідні. Диференціальне числення",
   "id": "c8df75d85fe0a557"
  },
  {
   "metadata": {},
   "cell_type": "markdown",
   "source": [
    "### Завдання 1\n",
    "\n",
    "Виконай диференціювання функції та знайди значення похідних у точках $x=1$ і $x=-(1/2)$ Розв’яжи програмно та аналітично. \n"
   ],
   "id": "f456e7821e001e60"
  },
  {
   "metadata": {},
   "cell_type": "markdown",
   "source": [
    "1. $f(x) = \\frac{x^3}{3} + \\frac{x^2}{2} - 2x$\n",
    "\n",
    "Функція складається з трьох членів. Ми можемо застосувати правило степеня для похідної до кожного члена. Правило степеня виглядає так:\n",
    "\n",
    "$\\frac{d}{dx} \\left( x^n \\right) = n x^{n-1}$\n",
    "\n",
    "Розвязки для кожного члена:\n",
    "\n",
    "$\\frac{d}{dx} \\left( \\frac{x^3}{3} \\right) = \\frac{1}{3} \\cdot \\frac{d}{dx}(x^3) = \\frac{1}{3} \\cdot 3x^2 = x^2$\n",
    "\n",
    "$\\frac{d}{dx} \\left( \\frac{x^2}{2} \\right) = \\frac{1}{2} \\cdot \\frac{d}{dx}(x^2) = \\frac{1}{2} \\cdot 2x = x$\n",
    "\n",
    "Для цього члена використовуємо правило, за яким похідна від постійної, помноженої на x, дорівнює самій постійній. У цьому випадку:\n",
    "\n",
    "$\\frac{d}{dx} \\left( -2x \\right) = -2$\n",
    "\n",
    "Тепер об’єднуємо похідні кожного члена, щоб отримати похідну всієї функції:\n",
    "\n",
    "$f{\\prime}(x) = x^2 + x - 2$\n",
    "\n",
    "Відповідь:\n",
    "* Для  $x = 1$ :\n",
    "\n",
    "$f{\\prime}(1) = 1^2 + 1 - 2 = 0$\n",
    "\n",
    "* Для  $x = -\\frac{1}{2}$ :\n",
    "\n",
    "$f{\\prime}\\left(-\\frac{1}{2}\\right) = \\left(-\\frac{1}{2}\\right)^2 + \\left(-\\frac{1}{2}\\right) - 2 = \\frac{1}{4} - \\frac{1}{2} - 2 = -\\frac{9}{4} = -2.25$\n"
   ],
   "id": "ef38643cfdb22e56"
  },
  {
   "metadata": {},
   "cell_type": "markdown",
   "source": [
    "2. $f(x) = \\sqrt{x^2 + 1}$\n",
    "\n",
    "У цьому випадку ми можемо застосувати правило ланцюга оскільки це складена функція.\n",
    "\n",
    "Спочатку перепишемо формулу у зручній формі\n",
    "\n",
    "$f(x) = (x^2 + 1)^{\\frac{1}{2}}$\n",
    "\n",
    "Правило ланцюга говорить, що якщо функція має вигляд  $g(h(x))$ , де $h(x)$  — це внутрішня функція, а  $g(u)$  — зовнішня функція, то похідна обчислюється за формулою:\n",
    "\n",
    "$f{\\prime}(x) = g{\\prime}(h(x)) \\cdot h{\\prime}(x)$\n",
    "\n",
    "Зовнішня функція:\n",
    "\n",
    "$g(u) = u^{\\frac{1}{2}}, \\quad g{\\prime}(u) = \\frac{1}{2} u^{-\\frac{1}{2}}$\n",
    "\n",
    "\n",
    "Внутрішня функція:\n",
    "\n",
    "$h(x) = x^2 + 1, \\quad h{\\prime}(x) = 2x$\n",
    "\n",
    "\n",
    "Застосовуємо правило ланцюга:\n",
    "\n",
    "\n",
    "$f{\\prime}(x) = \\frac{1}{2} (x^2 + 1)^{-\\frac{1}{2}} \\cdot 2x$\n",
    "\n",
    "\n",
    "Після спрощення:\n",
    "\n",
    "$f{\\prime}(x) = \\frac{2x}{2\\sqrt{x^2 + 1}} = \\frac{x}{\\sqrt{x^2 + 1}}$\n",
    "\n",
    "\n",
    "Відповідь:\n",
    "\n",
    "Для  $x = 1$ :\n",
    "\n",
    "$f{\\prime}(1) = \\frac{1}{\\sqrt{1^2 + 1}} = \\frac{1}{\\sqrt{2}} \\approx 0.707$\n",
    "\n",
    "\n",
    "Для  $x = -\\frac{1}{2}$ :\n",
    "\n",
    "\n",
    "$f{\\prime}\\left(-\\frac{1}{2}\\right) = \\frac{-\\frac{1}{2}}{\\sqrt{\\left(-\\frac{1}{2}\\right)^2 + 1}} = \\frac{-\\frac{1}{2}}{\\sqrt{\\frac{1}{4} + 1}} = \\frac{-\\frac{1}{2}}{\\sqrt{\\frac{5}{4}}} = \\frac{-1}{\\sqrt{5}} \\approx -0.447$\n",
    "\n"
   ],
   "id": "d6a5829da3bcf424"
  },
  {
   "metadata": {},
   "cell_type": "markdown",
   "source": [
    "3. $f(x) = \\frac{1}{\\sqrt{x^2 + 1}}$\n",
    "\n",
    "Чисельник — це константа 1. Можемо обчислити похідну використовуючи правило частки, яке стосується функцій вигляду $\\frac{u(x)}{v(x)}$, \n",
    "\n",
    "Де:\n",
    "\n",
    "* $u(x)$ - чисельник,\n",
    "* $v(x)$ - знаменник.\n",
    "\n",
    "Правило частки виглядає так:\n",
    "\n",
    "$\\frac{d}{dx} \\left( \\frac{u(x)}{v(x)} \\right) = \\frac{u{\\prime}(x) v(x) - u(x) v{\\prime}(x)}{(v(x))^2}$\n",
    "\n",
    "Оскільки чисельник - це константа  $u(x) = 1$, його похідна дорівнює нулю:\n",
    "\n",
    "$u{\\prime}(x) = 0$\n",
    "\n",
    "Знаменник можна переписати як\n",
    "\n",
    "$v(x) = \\sqrt{x^2 + 1} = (x^2 + 1)^{\\frac{1}{2}}$\n",
    "\n",
    "Тепер диференціюємо за правилом ланцюга:\n",
    "\n",
    "$v{\\prime}(x) = \\frac{1}{2}(x^2 + 1)^{-\\frac{1}{2}} \\cdot 2x = \\frac{x}{\\sqrt{x^2 + 1}}$\n",
    "\n",
    "Тепер підставимо в формулу правила частки:\n",
    "\n",
    "$f{\\prime}(x) = \\frac{0 \\cdot \\sqrt{x^2 + 1} - 1 \\cdot \\frac{x}{\\sqrt{x^2 + 1}}}{(\\sqrt{x^2 + 1})^2}$\n",
    "\n",
    "Спростимо:\n",
    "\n",
    "$f{\\prime}(x) = -\\frac{x}{\\sqrt{x^2 + 1} \\cdot (x^2 + 1)} = \\frac{-x}{(x^2 + 1)^{\\frac{3}{2}}}$\n",
    "\n",
    "Відповідь:\n",
    "\n",
    "Для  $x = 1$ :\n",
    "\n",
    "$f{\\prime}(1) = \\frac{-1}{(1^2 + 1)^{\\frac{3}{2}}} = \\frac{-1}{2\\sqrt{2}} \\approx -0.353$\n",
    "\n",
    "\n",
    "Для  $x = -\\frac{1}{2}$ :\n",
    "\n",
    "$f{\\prime}\\left(-\\frac{1}{2}\\right) = \\frac{-\\left(-\\frac{1}{2}\\right)}{\\left(\\left(-\\frac{1}{2}\\right)^2 + 1\\right)^{\\frac{3}{2}}} = \\frac{4}{25}\\sqrt{5} = \\approx 0.357$"
   ],
   "id": "87423adfffa31317"
  },
  {
   "metadata": {},
   "cell_type": "markdown",
   "source": "",
   "id": "10847b866ddb618a"
  },
  {
   "metadata": {
    "ExecuteTime": {
     "end_time": "2024-09-08T19:12:30.377156Z",
     "start_time": "2024-09-08T19:12:30.368910Z"
    }
   },
   "cell_type": "code",
   "source": [
    "from sympy import symbols, diff, sqrt\n",
    "\n",
    "x1 = symbols('x')\n",
    "f1 = (x**3)/3 + (x**2)/2 - 2*x\n",
    "f1_derivative = diff(f1, x1)\n",
    "\n",
    "print(f1_derivative)\n",
    "print(f1_derivative.evalf(subs={x: 1}))\n",
    "print(f1_derivative.evalf(subs={x: -(1/2)}))\n",
    "\n",
    "x2 = symbols('x')\n",
    "f2 = sqrt(x**2 + 1)\n",
    "f2_derivative = diff(f2, x2)\n",
    "\n",
    "print(f2_derivative)\n",
    "print(f2_derivative.evalf(subs={x: 1}))\n",
    "print(f2_derivative.evalf(subs={x: -(1/2)}))\n",
    "\n",
    "x3 = symbols('x')\n",
    "f3 = 1/sqrt(x**2 + 1)\n",
    "f3_derivative = diff(f3, x3)\n",
    "\n",
    "print(f3_derivative)\n",
    "print(f3_derivative.evalf(subs={x: 1}))\n",
    "print(f3_derivative.evalf(subs={x: -(1/2)}))\n",
    "\n"
   ],
   "id": "e05959b9b3a506b6",
   "outputs": [
    {
     "name": "stdout",
     "output_type": "stream",
     "text": [
      "x**2 + x - 2\n",
      "0.e-125\n",
      "-2.25000000000000\n",
      "x/sqrt(x**2 + 1)\n",
      "0.707106781186548\n",
      "-0.447213595499958\n",
      "-x/(x**2 + 1)**(3/2)\n",
      "-0.353553390593274\n",
      "0.357770876399966\n"
     ]
    }
   ],
   "execution_count": 7
  },
  {
   "metadata": {},
   "cell_type": "markdown",
   "source": "",
   "id": "59668d2839c17ae4"
  },
  {
   "metadata": {},
   "cell_type": "markdown",
   "source": [
    "Завдання 2\n",
    "\n",
    "Аналітично виконай диференціювання функції та знайди точку максимуму. Програмно візуалізуй функцію, її похідну та точку максимуму.\n",
    "\n",
    "$y=-3x^2 + 30x$"
   ],
   "id": "db047befd52e83f2"
  },
  {
   "metadata": {},
   "cell_type": "markdown",
   "source": [
    "Похідна від $-3x^2$ дорівнює $-6x$, а похідна від $30x$ дорівнює $30$.\n",
    "\n",
    "Отже:\n",
    "\n",
    "$f{\\prime}(x) = -6x + 30$\n",
    "\n",
    "Критичні точки знаходяться там, де похідна дорівнює нулю, тобто  $f{\\prime}(x) = 0$.\n",
    "\n",
    "$\n",
    "-6x + 30 = 0\\\\\n",
    "6x = 30\\\\\n",
    "x = 5\n",
    "$\n"
   ],
   "id": "e118b2203753d64d"
  },
  {
   "metadata": {},
   "cell_type": "markdown",
   "source": [
    "Щоб переконатися, що це точка максимуму, знайдемо другу похідну.\n",
    "Друга похідна позначається як  $f{\\prime}{\\prime}(x)$ :\n",
    "\n",
    "\n",
    "$f{\\prime}{\\prime}(x) = \\frac{d}{dx}(-6x + 30) = -6$\n",
    "\n",
    "Оскільки $f{\\prime}{\\prime}(x) = -6$ - це від’ємне число, функція в точці $x = 5$ має максимум.\n",
    "\n",
    "Підставимо $x = 5$ у вихідну функцію $f(x)$ :\n",
    "\n",
    "$f(5) = -3(5)^2 + 30(5) = -3(25) + 150 = -75 + 150 = 75$\n",
    "\n",
    "Відповідь:\n",
    "\n",
    "Функція $f(x) = -3x^2 + 30x$  досягає свого максимуму в точці $x = 5$, \n",
    "і значення максимуму дорівнює $f(5) = 75$.\n",
    "\n"
   ],
   "id": "9e95453a89ee5a3e"
  },
  {
   "metadata": {
    "ExecuteTime": {
     "end_time": "2024-09-08T19:31:37.437258Z",
     "start_time": "2024-09-08T19:31:37.354941Z"
    }
   },
   "cell_type": "code",
   "source": [
    "import numpy as np\n",
    "import matplotlib.pyplot as plt\n",
    "\n",
    "# Визначимо функцію f(x)\n",
    "def f(x):\n",
    "    return -3 * x**2 + 30 * x\n",
    "\n",
    "# Задаємо діапазон для x\n",
    "x = np.linspace(0, 10, 400)\n",
    "y = f(x)\n",
    "\n",
    "# Обчислимо точку максимуму\n",
    "x_max = 5\n",
    "y_max = f(x_max)\n",
    "\n",
    "plt.figure(figsize=(8, 6))\n",
    "plt.plot(x, y, label=r'$f(x) = -3x^2 + 30x$', color='b')\n",
    "plt.scatter(x_max, y_max, color='r', zorder=5)\n",
    "plt.text(x_max, y_max + 5, f'Maximum\\n(x={x_max}, y={y_max})', color='r', ha='center')\n",
    "\n",
    "# Додаємо заголовок та підписи осей\n",
    "plt.title('Графік функції $f(x) = -3x^2 + 30x$ з точкою максимуму')\n",
    "plt.xlabel('x')\n",
    "plt.ylabel('f(x)')\n",
    "plt.grid(True)\n",
    "plt.axhline(0, color='black',linewidth=1)\n",
    "plt.axvline(0, color='black',linewidth=1)\n",
    "\n",
    "# Налаштовуємо межі для осей\n",
    "plt.ylim(-10, 100)  # Збільшуємо верхню межу по осі y\n",
    "\n",
    "# Показуємо легенду\n",
    "plt.legend()\n",
    "\n",
    "# Відображення графіку\n",
    "plt.show()"
   ],
   "id": "25b062d0bd8eefd",
   "outputs": [
    {
     "data": {
      "text/plain": [
       "<Figure size 800x600 with 1 Axes>"
      ],
      "image/png": "[encoded data removed]"
     },
     "metadata": {},
     "output_type": "display_data"
    }
   ],
   "execution_count": 15
  },
  {
   "metadata": {},
   "cell_type": "code",
   "outputs": [],
   "execution_count": null,
   "source": "",
   "id": "75a7886ba80de864"
  }
 ],
 "metadata": {
  "kernelspec": {
   "display_name": "Python 3",
   "language": "python",
   "name": "python3"
  },
  "language_info": {
   "codemirror_mode": {
    "name": "ipython",
    "version": 2
   },
   "file_extension": ".py",
   "mimetype": "text/x-python",
   "name": "python",
   "nbconvert_exporter": "python",
   "pygments_lexer": "ipython2",
   "version": "2.7.6"
  }
 },
 "nbformat": 4,
 "nbformat_minor": 5
}
