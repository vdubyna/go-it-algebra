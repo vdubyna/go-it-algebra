{
  "nbformat": 4,
  "nbformat_minor": 0,
  "metadata": {
    "colab": {
      "provenance": [],
      "toc_visible": true
    },
    "kernelspec": {
      "name": "python3",
      "display_name": "Python 3"
    },
    "language_info": {
      "name": "python"
    }
  },
  "cells": [
    {
      "cell_type": "markdown",
      "source": [
        "#Вектори\n",
        "Виконайте завдання для наступних векторів:\n",
        "*   $\\overrightarrow{AB}$, якщо  $A(0,1), B(3,4)$;\n",
        "*   $\\overrightarrow{CD}$, якщо  $C(-2,-2), D(2,2)$;\n",
        "*   $\\overrightarrow{EF}$, якщо  $E(-5,3), F(4,2)$;\n",
        "*   $\\overrightarrow{GH}$, якщо  $G(1,1), H(3,3)$;\n",
        "1. Реалізуйте вектори на координатній площині:\n",
        "2. Які з перелічених векторів колінеарні? Чому?\n",
        "3. Обрахуйте координати векторів,  а також значення їх модулів.\n",
        "4. Обрахуйте напрямні косинуси для векторів.\n",
        "5. Визначте суму векторів  $\\overrightarrow{AB}$ + $\\overrightarrow{CD}$ та $\\overrightarrow{EF}$ + $\\overrightarrow{GH}$. Візуалізуйте ці суми на координатній площині.\n",
        "6. Визначте суму векторів  $\\overrightarrow{AB}$ + $\\overrightarrow{CD}$ + $\\overrightarrow{EF}$ + $\\overrightarrow{GH}$. Візуалізуйте цю суму на координатній площині.\n",
        "7. Обрахуйте різницю векторів $\\overrightarrow{AB}$ -  $\\overrightarrow{CD}$ та $\\overrightarrow{EF}$ - $\\overrightarrow{GH}$. Візуалізуйте результат на координатній площині.\n",
        "8. обрахуйте наступні вектори $2*\\overrightarrow{AB}$, $3* \\overrightarrow{CD}$ та $4*\\overrightarrow{EF}$, $-1* \\overrightarrow{GH}$. Який з результуючих векторів буде зворотнім первинного.\n",
        "9. Обрахуйте скалярний добуток між векторами  $\\overrightarrow{AB}$ *  $\\overrightarrow{CD}$ та $\\overrightarrow{EF}$ * $\\overrightarrow{GH}$\n",
        "10. Обрахуйте всі попередні задачі в бібліотеці NumPy.\n",
        "\n",
        "\n"
      ],
      "metadata": {
        "id": "y9Fe1OXONMNQ"
      }
    },
    {
      "cell_type": "markdown",
      "source": [
        "#Координатна пряма"
      ],
      "metadata": {
        "id": "SQxuaZWkThxq"
      }
    },
    {
      "cell_type": "code",
      "source": [
        "import plotly.graph_objects as go\n",
        "import numpy as np\n",
        "\n",
        "# Генерація точок\n",
        "num_points = 10\n",
        "points_x = np.random.randint(-10, 10, num_points)\n",
        "points_y = np.zeros(num_points)\n",
        "\n",
        "# Створення об'єкту \"Figure\" для графіку\n",
        "fig = go.Figure()\n",
        "\n",
        "# Додавання горизонтальної вісі X\n",
        "fig.add_trace(go.Scatter(x=[-10, 10], y=[0, 0], mode='lines', name='X-axis'))\n",
        "\n",
        "# Додавання точок на координатну пряму\n",
        "fig.add_trace(go.Scatter(x=points_x, y=points_y, mode='markers', name='Points'))\n",
        "\n",
        "# Налаштування вигляду графіку\n",
        "fig.update_layout(\n",
        "    title='Координатна пряма з точками',\n",
        "    xaxis=dict(title='Вісь X'),\n",
        "    yaxis=dict(title='Вісь Y'),\n",
        "    showlegend=True\n",
        ")\n",
        "\n",
        "# Відображення графіку\n",
        "fig.show()"
      ],
      "metadata": {
        "colab": {
          "base_uri": "https://localhost:8080/",
          "height": 542
        },
        "id": "Go_DevwoTiJs",
        "outputId": "f38d603d-4771-435d-95e8-326d83de3123"
      },
      "execution_count": null,
      "outputs": [
        {
          "output_type": "display_data",
          "data": {
            "text/html": [
              "<html>\n",
              "<head><meta charset=\"utf-8\" /></head>\n",
              "<body>\n",
              "    <div>            <script src=\"https://cdnjs.cloudflare.com/ajax/libs/mathjax/2.7.5/MathJax.js?config=TeX-AMS-MML_SVG\"></script><script type=\"text/javascript\">if (window.MathJax && window.MathJax.Hub && window.MathJax.Hub.Config) {window.MathJax.Hub.Config({SVG: {font: \"STIX-Web\"}});}</script>                <script type=\"text/javascript\">window.PlotlyConfig = {MathJaxConfig: 'local'};</script>\n",
              "        <script charset=\"utf-8\" src=\"https://cdn.plot.ly/plotly-2.24.1.min.js\"></script>                <div id=\"dc97dc6e-c61e-4efe-b974-7d34524f9e62\" class=\"plotly-graph-div\" style=\"height:525px; width:100%;\"></div>            <script type=\"text/javascript\">                                    window.PLOTLYENV=window.PLOTLYENV || {};                                    if (document.getElementById(\"dc97dc6e-c61e-4efe-b974-7d34524f9e62\")) {                    Plotly.newPlot(                        \"dc97dc6e-c61e-4efe-b974-7d34524f9e62\",                        [{\"mode\":\"lines\",\"name\":\"X-axis\",\"x\":[-10,10],\"y\":[0,0],\"type\":\"scatter\"},{\"mode\":\"markers\",\"name\":\"Points\",\"x\":[4,-6,7,1,9,-5,-4,0,9,-2],\"y\":[0.0,0.0,0.0,0.0,0.0,0.0,0.0,0.0,0.0,0.0],\"type\":\"scatter\"}],                        {\"template\":{\"data\":{\"histogram2dcontour\":[{\"type\":\"histogram2dcontour\",\"colorbar\":{\"outlinewidth\":0,\"ticks\":\"\"},\"colorscale\":[[0.0,\"#0d0887\"],[0.1111111111111111,\"#46039f\"],[0.2222222222222222,\"#7201a8\"],[0.3333333333333333,\"#9c179e\"],[0.4444444444444444,\"#bd3786\"],[0.5555555555555556,\"#d8576b\"],[0.6666666666666666,\"#ed7953\"],[0.7777777777777778,\"#fb9f3a\"],[0.8888888888888888,\"#fdca26\"],[1.0,\"#f0f921\"]]}],\"choropleth\":[{\"type\":\"choropleth\",\"colorbar\":{\"outlinewidth\":0,\"ticks\":\"\"}}],\"histogram2d\":[{\"type\":\"histogram2d\",\"colorbar\":{\"outlinewidth\":0,\"ticks\":\"\"},\"colorscale\":[[0.0,\"#0d0887\"],[0.1111111111111111,\"#46039f\"],[0.2222222222222222,\"#7201a8\"],[0.3333333333333333,\"#9c179e\"],[0.4444444444444444,\"#bd3786\"],[0.5555555555555556,\"#d8576b\"],[0.6666666666666666,\"#ed7953\"],[0.7777777777777778,\"#fb9f3a\"],[0.8888888888888888,\"#fdca26\"],[1.0,\"#f0f921\"]]}],\"heatmap\":[{\"type\":\"heatmap\",\"colorbar\":{\"outlinewidth\":0,\"ticks\":\"\"},\"colorscale\":[[0.0,\"#0d0887\"],[0.1111111111111111,\"#46039f\"],[0.2222222222222222,\"#7201a8\"],[0.3333333333333333,\"#9c179e\"],[0.4444444444444444,\"#bd3786\"],[0.5555555555555556,\"#d8576b\"],[0.6666666666666666,\"#ed7953\"],[0.7777777777777778,\"#fb9f3a\"],[0.8888888888888888,\"#fdca26\"],[1.0,\"#f0f921\"]]}],\"heatmapgl\":[{\"type\":\"heatmapgl\",\"colorbar\":{\"outlinewidth\":0,\"ticks\":\"\"},\"colorscale\":[[0.0,\"#0d0887\"],[0.1111111111111111,\"#46039f\"],[0.2222222222222222,\"#7201a8\"],[0.3333333333333333,\"#9c179e\"],[0.4444444444444444,\"#bd3786\"],[0.5555555555555556,\"#d8576b\"],[0.6666666666666666,\"#ed7953\"],[0.7777777777777778,\"#fb9f3a\"],[0.8888888888888888,\"#fdca26\"],[1.0,\"#f0f921\"]]}],\"contourcarpet\":[{\"type\":\"contourcarpet\",\"colorbar\":{\"outlinewidth\":0,\"ticks\":\"\"}}],\"contour\":[{\"type\":\"contour\",\"colorbar\":{\"outlinewidth\":0,\"ticks\":\"\"},\"colorscale\":[[0.0,\"#0d0887\"],[0.1111111111111111,\"#46039f\"],[0.2222222222222222,\"#7201a8\"],[0.3333333333333333,\"#9c179e\"],[0.4444444444444444,\"#bd3786\"],[0.5555555555555556,\"#d8576b\"],[0.6666666666666666,\"#ed7953\"],[0.7777777777777778,\"#fb9f3a\"],[0.8888888888888888,\"#fdca26\"],[1.0,\"#f0f921\"]]}],\"surface\":[{\"type\":\"surface\",\"colorbar\":{\"outlinewidth\":0,\"ticks\":\"\"},\"colorscale\":[[0.0,\"#0d0887\"],[0.1111111111111111,\"#46039f\"],[0.2222222222222222,\"#7201a8\"],[0.3333333333333333,\"#9c179e\"],[0.4444444444444444,\"#bd3786\"],[0.5555555555555556,\"#d8576b\"],[0.6666666666666666,\"#ed7953\"],[0.7777777777777778,\"#fb9f3a\"],[0.8888888888888888,\"#fdca26\"],[1.0,\"#f0f921\"]]}],\"mesh3d\":[{\"type\":\"mesh3d\",\"colorbar\":{\"outlinewidth\":0,\"ticks\":\"\"}}],\"scatter\":[{\"fillpattern\":{\"fillmode\":\"overlay\",\"size\":10,\"solidity\":0.2},\"type\":\"scatter\"}],\"parcoords\":[{\"type\":\"parcoords\",\"line\":{\"colorbar\":{\"outlinewidth\":0,\"ticks\":\"\"}}}],\"scatterpolargl\":[{\"type\":\"scatterpolargl\",\"marker\":{\"colorbar\":{\"outlinewidth\":0,\"ticks\":\"\"}}}],\"bar\":[{\"error_x\":{\"color\":\"#2a3f5f\"},\"error_y\":{\"color\":\"#2a3f5f\"},\"marker\":{\"line\":{\"color\":\"#E5ECF6\",\"width\":0.5},\"pattern\":{\"fillmode\":\"overlay\",\"size\":10,\"solidity\":0.2}},\"type\":\"bar\"}],\"scattergeo\":[{\"type\":\"scattergeo\",\"marker\":{\"colorbar\":{\"outlinewidth\":0,\"ticks\":\"\"}}}],\"scatterpolar\":[{\"type\":\"scatterpolar\",\"marker\":{\"colorbar\":{\"outlinewidth\":0,\"ticks\":\"\"}}}],\"histogram\":[{\"marker\":{\"pattern\":{\"fillmode\":\"overlay\",\"size\":10,\"solidity\":0.2}},\"type\":\"histogram\"}],\"scattergl\":[{\"type\":\"scattergl\",\"marker\":{\"colorbar\":{\"outlinewidth\":0,\"ticks\":\"\"}}}],\"scatter3d\":[{\"type\":\"scatter3d\",\"line\":{\"colorbar\":{\"outlinewidth\":0,\"ticks\":\"\"}},\"marker\":{\"colorbar\":{\"outlinewidth\":0,\"ticks\":\"\"}}}],\"scattermapbox\":[{\"type\":\"scattermapbox\",\"marker\":{\"colorbar\":{\"outlinewidth\":0,\"ticks\":\"\"}}}],\"scatterternary\":[{\"type\":\"scatterternary\",\"marker\":{\"colorbar\":{\"outlinewidth\":0,\"ticks\":\"\"}}}],\"scattercarpet\":[{\"type\":\"scattercarpet\",\"marker\":{\"colorbar\":{\"outlinewidth\":0,\"ticks\":\"\"}}}],\"carpet\":[{\"aaxis\":{\"endlinecolor\":\"#2a3f5f\",\"gridcolor\":\"white\",\"linecolor\":\"white\",\"minorgridcolor\":\"white\",\"startlinecolor\":\"#2a3f5f\"},\"baxis\":{\"endlinecolor\":\"#2a3f5f\",\"gridcolor\":\"white\",\"linecolor\":\"white\",\"minorgridcolor\":\"white\",\"startlinecolor\":\"#2a3f5f\"},\"type\":\"carpet\"}],\"table\":[{\"cells\":{\"fill\":{\"color\":\"#EBF0F8\"},\"line\":{\"color\":\"white\"}},\"header\":{\"fill\":{\"color\":\"#C8D4E3\"},\"line\":{\"color\":\"white\"}},\"type\":\"table\"}],\"barpolar\":[{\"marker\":{\"line\":{\"color\":\"#E5ECF6\",\"width\":0.5},\"pattern\":{\"fillmode\":\"overlay\",\"size\":10,\"solidity\":0.2}},\"type\":\"barpolar\"}],\"pie\":[{\"automargin\":true,\"type\":\"pie\"}]},\"layout\":{\"autotypenumbers\":\"strict\",\"colorway\":[\"#636efa\",\"#EF553B\",\"#00cc96\",\"#ab63fa\",\"#FFA15A\",\"#19d3f3\",\"#FF6692\",\"#B6E880\",\"#FF97FF\",\"#FECB52\"],\"font\":{\"color\":\"#2a3f5f\"},\"hovermode\":\"closest\",\"hoverlabel\":{\"align\":\"left\"},\"paper_bgcolor\":\"white\",\"plot_bgcolor\":\"#E5ECF6\",\"polar\":{\"bgcolor\":\"#E5ECF6\",\"angularaxis\":{\"gridcolor\":\"white\",\"linecolor\":\"white\",\"ticks\":\"\"},\"radialaxis\":{\"gridcolor\":\"white\",\"linecolor\":\"white\",\"ticks\":\"\"}},\"ternary\":{\"bgcolor\":\"#E5ECF6\",\"aaxis\":{\"gridcolor\":\"white\",\"linecolor\":\"white\",\"ticks\":\"\"},\"baxis\":{\"gridcolor\":\"white\",\"linecolor\":\"white\",\"ticks\":\"\"},\"caxis\":{\"gridcolor\":\"white\",\"linecolor\":\"white\",\"ticks\":\"\"}},\"coloraxis\":{\"colorbar\":{\"outlinewidth\":0,\"ticks\":\"\"}},\"colorscale\":{\"sequential\":[[0.0,\"#0d0887\"],[0.1111111111111111,\"#46039f\"],[0.2222222222222222,\"#7201a8\"],[0.3333333333333333,\"#9c179e\"],[0.4444444444444444,\"#bd3786\"],[0.5555555555555556,\"#d8576b\"],[0.6666666666666666,\"#ed7953\"],[0.7777777777777778,\"#fb9f3a\"],[0.8888888888888888,\"#fdca26\"],[1.0,\"#f0f921\"]],\"sequentialminus\":[[0.0,\"#0d0887\"],[0.1111111111111111,\"#46039f\"],[0.2222222222222222,\"#7201a8\"],[0.3333333333333333,\"#9c179e\"],[0.4444444444444444,\"#bd3786\"],[0.5555555555555556,\"#d8576b\"],[0.6666666666666666,\"#ed7953\"],[0.7777777777777778,\"#fb9f3a\"],[0.8888888888888888,\"#fdca26\"],[1.0,\"#f0f921\"]],\"diverging\":[[0,\"#8e0152\"],[0.1,\"#c51b7d\"],[0.2,\"#de77ae\"],[0.3,\"#f1b6da\"],[0.4,\"#fde0ef\"],[0.5,\"#f7f7f7\"],[0.6,\"#e6f5d0\"],[0.7,\"#b8e186\"],[0.8,\"#7fbc41\"],[0.9,\"#4d9221\"],[1,\"#276419\"]]},\"xaxis\":{\"gridcolor\":\"white\",\"linecolor\":\"white\",\"ticks\":\"\",\"title\":{\"standoff\":15},\"zerolinecolor\":\"white\",\"automargin\":true,\"zerolinewidth\":2},\"yaxis\":{\"gridcolor\":\"white\",\"linecolor\":\"white\",\"ticks\":\"\",\"title\":{\"standoff\":15},\"zerolinecolor\":\"white\",\"automargin\":true,\"zerolinewidth\":2},\"scene\":{\"xaxis\":{\"backgroundcolor\":\"#E5ECF6\",\"gridcolor\":\"white\",\"linecolor\":\"white\",\"showbackground\":true,\"ticks\":\"\",\"zerolinecolor\":\"white\",\"gridwidth\":2},\"yaxis\":{\"backgroundcolor\":\"#E5ECF6\",\"gridcolor\":\"white\",\"linecolor\":\"white\",\"showbackground\":true,\"ticks\":\"\",\"zerolinecolor\":\"white\",\"gridwidth\":2},\"zaxis\":{\"backgroundcolor\":\"#E5ECF6\",\"gridcolor\":\"white\",\"linecolor\":\"white\",\"showbackground\":true,\"ticks\":\"\",\"zerolinecolor\":\"white\",\"gridwidth\":2}},\"shapedefaults\":{\"line\":{\"color\":\"#2a3f5f\"}},\"annotationdefaults\":{\"arrowcolor\":\"#2a3f5f\",\"arrowhead\":0,\"arrowwidth\":1},\"geo\":{\"bgcolor\":\"white\",\"landcolor\":\"#E5ECF6\",\"subunitcolor\":\"white\",\"showland\":true,\"showlakes\":true,\"lakecolor\":\"white\"},\"title\":{\"x\":0.05},\"mapbox\":{\"style\":\"light\"}}},\"title\":{\"text\":\"\\u041a\\u043e\\u043e\\u0440\\u0434\\u0438\\u043d\\u0430\\u0442\\u043d\\u0430 \\u043f\\u0440\\u044f\\u043c\\u0430 \\u0437 \\u0442\\u043e\\u0447\\u043a\\u0430\\u043c\\u0438\"},\"xaxis\":{\"title\":{\"text\":\"\\u0412\\u0456\\u0441\\u044c X\"}},\"yaxis\":{\"title\":{\"text\":\"\\u0412\\u0456\\u0441\\u044c Y\"}},\"showlegend\":true},                        {\"responsive\": true}                    ).then(function(){\n",
              "                            \n",
              "var gd = document.getElementById('dc97dc6e-c61e-4efe-b974-7d34524f9e62');\n",
              "var x = new MutationObserver(function (mutations, observer) {{\n",
              "        var display = window.getComputedStyle(gd).display;\n",
              "        if (!display || display === 'none') {{\n",
              "            console.log([gd, 'removed!']);\n",
              "            Plotly.purge(gd);\n",
              "            observer.disconnect();\n",
              "        }}\n",
              "}});\n",
              "\n",
              "// Listen for the removal of the full notebook cells\n",
              "var notebookContainer = gd.closest('#notebook-container');\n",
              "if (notebookContainer) {{\n",
              "    x.observe(notebookContainer, {childList: true});\n",
              "}}\n",
              "\n",
              "// Listen for the clearing of the current output cell\n",
              "var outputEl = gd.closest('.output');\n",
              "if (outputEl) {{\n",
              "    x.observe(outputEl, {childList: true});\n",
              "}}\n",
              "\n",
              "                        })                };                            </script>        </div>\n",
              "</body>\n",
              "</html>"
            ]
          },
          "metadata": {}
        }
      ]
    },
    {
      "cell_type": "markdown",
      "source": [
        "#Координатна сітка та вісі"
      ],
      "metadata": {
        "id": "3-COdKp4Mvj7"
      }
    },
    {
      "cell_type": "code",
      "source": [
        "import matplotlib.pyplot as plt\n",
        "\n",
        "def plot_full_coordinate_grid():\n",
        "    # Створення нового рисунка та вісей\n",
        "    fig, ax = plt.subplots()\n",
        "\n",
        "    # Визначення меж області рисунка для розташування вісей та координатної сітки\n",
        "    ax.set_xlim(-10, 10)\n",
        "    ax.set_ylim(-10, 10)\n",
        "\n",
        "    # Малювання координатної сітки\n",
        "    ax.grid(True, which='both')\n",
        "\n",
        "    # Додавання вісей X та Y\n",
        "    ax.axhline(y=0, color='black', linewidth=1.5)\n",
        "    ax.axvline(x=0, color='black', linewidth=1.5)\n",
        "\n",
        "    # Додавання підписів вісей\n",
        "    ax.text(10, -1, 'X', fontsize=12, ha='right', va='bottom')\n",
        "    ax.text(-0.5, 10, 'Y', fontsize=12, ha='right', va='top')\n",
        "\n",
        "    # Додавання позначення квадрантів\n",
        "    ax.text(2, 2, 'I', fontsize=12, ha='center', va='center')\n",
        "    ax.text(-2, 2, 'II', fontsize=12, ha='center', va='center')\n",
        "    ax.text(-2, -2, 'III', fontsize=12, ha='center', va='center')\n",
        "    ax.text(2, -2, 'IV', fontsize=12, ha='center', va='center')\n",
        "\n",
        "    # Налаштування візуалізації\n",
        "    ax.set_title('Координатна сітка та вісі')\n",
        "    ax.set_xlabel('X')\n",
        "    ax.set_ylabel('Y')\n",
        "\n",
        "    # Відображення графіку\n",
        "    plt.show()\n",
        "\n",
        "# Виклик функції для малювання координатної сітки\n",
        "plot_full_coordinate_grid()\n"
      ],
      "metadata": {
        "colab": {
          "base_uri": "https://localhost:8080/",
          "height": 472
        },
        "id": "CmxK0dfqMoDw",
        "outputId": "d0400869-132c-4ba6-d51c-937d92bbf6bd"
      },
      "execution_count": null,
      "outputs": [
        {
          "output_type": "display_data",
          "data": {
            "text/plain": [
              "<Figure size 640x480 with 1 Axes>"
            ],
            "image/png": "[encoded data removed]"
          },
          "metadata": {}
        }
      ]
    },
    {
      "cell_type": "markdown",
      "source": [
        "#Вектори на площині"
      ],
      "metadata": {
        "id": "wfDlb9qCQ-5O"
      }
    },
    {
      "cell_type": "code",
      "source": [
        "import matplotlib.pyplot as plt\n",
        "import numpy as np\n",
        "\n",
        "def draw_vectors(vectors, colors=None, title=None):\n",
        "    \"\"\"\n",
        "    Функція для малювання декількох векторів на площині засобами бібліотеки Matplotlib.\n",
        "\n",
        "    Параметри:\n",
        "    - vectors: Список кортежів (start_point, end_point), де start_point та end_point - це координати початкової та кінцевої точок вектора.\n",
        "    - colors: Список кольорів для векторів (за замовчуванням використовується 'blue' для всіх векторів).\n",
        "    \"\"\"\n",
        "    num_vectors = len(vectors)\n",
        "\n",
        "    if colors is None:\n",
        "        colors = ['blue'] * num_vectors\n",
        "\n",
        "    if title is None:\n",
        "        title = 'Декілька векторів на площині'\n",
        "\n",
        "    # Створення нового рисунка та вісей\n",
        "    fig, ax = plt.subplots()\n",
        "\n",
        "    for i in range(num_vectors):\n",
        "        start_point, end_point = vectors[i]\n",
        "\n",
        "        # Визначення вектора та його довжини\n",
        "        vector = np.array([end_point[0] - start_point[0], end_point[1] - start_point[1]])\n",
        "        length = np.linalg.norm(vector)\n",
        "\n",
        "        # Нормалізація вектора\n",
        "        # normalized_vector = vector / length\n",
        "        normalized_vector = vector\n",
        "\n",
        "        # Додавання стрілки до вісей\n",
        "        ax.arrow(start_point[0], start_point[1], normalized_vector[0], normalized_vector[1],\n",
        "                 head_width=0.1, head_length=0.1, fc=colors[i], ec=colors[i])\n",
        "\n",
        "    # Налаштування візуалізації\n",
        "    ax.set_title(title)\n",
        "    ax.set_xlabel('X')\n",
        "    ax.set_ylabel('Y')\n",
        "    ax.grid(True)\n",
        "\n",
        "    # Відображення графіку\n",
        "    plt.show()\n",
        "\n",
        "# Приклад використання функції з декількома векторами та кольорами\n",
        "vectors = [((1, 2), (4, 6)), ((2, 3), (5, 2)), ((0, 0), (-2, 4))]\n",
        "colors = ['green', 'red', 'purple']\n",
        "\n",
        "draw_vectors(vectors, colors)\n"
      ],
      "metadata": {
        "colab": {
          "base_uri": "https://localhost:8080/",
          "height": 472
        },
        "id": "YhsAa1MFRCuG",
        "outputId": "1d023653-ec1c-4d01-c479-9085a393d851"
      },
      "execution_count": null,
      "outputs": [
        {
          "output_type": "display_data",
          "data": {
            "text/plain": [
              "<Figure size 640x480 with 1 Axes>"
            ],
            "image/png": "[encoded data removed]"
          },
          "metadata": {}
        }
      ]
    },
    {
      "cell_type": "markdown",
      "source": [
        "#Визначення координат вектора"
      ],
      "metadata": {
        "id": "FRWZeHtNRMom"
      }
    },
    {
      "cell_type": "code",
      "source": [
        "import numpy as np\n",
        "\n",
        "def calculate_vectors_components(vectors):\n",
        "    \"\"\"\n",
        "    Функція для визначення компонент декількох векторів.\n",
        "\n",
        "    Параметри:\n",
        "    - vectors: Список кортежів (start_point, end_point), де start_point та end_point - це координати початкової та кінцевої точок вектора.\n",
        "\n",
        "    Повертає:\n",
        "    - components: Список кортежів (x_components, y_components), де x_components та y_components - це компоненти по X та Y для кожного вектора.\n",
        "    \"\"\"\n",
        "    components = []\n",
        "\n",
        "    for start_point, end_point in vectors:\n",
        "        x_component = end_point[0] - start_point[0]\n",
        "        y_component = end_point[1] - start_point[1]\n",
        "        components.append((x_component, y_component))\n",
        "\n",
        "    return components\n",
        "\n",
        "# Приклад використання функції з декількома векторами\n",
        "vectors = [((1, 2), (4, 6)), ((2, 3), (5, 2)), ((0, 0), (-2, 4))]\n",
        "\n",
        "vector_components = calculate_vectors_components(vectors)\n",
        "print(vector_components)\n",
        "\n"
      ],
      "metadata": {
        "colab": {
          "base_uri": "https://localhost:8080/"
        },
        "id": "CdFhFuaiUCka",
        "outputId": "90e0ee69-e618-46a1-b0cb-3998c6f7312d"
      },
      "execution_count": null,
      "outputs": [
        {
          "output_type": "stream",
          "name": "stdout",
          "text": [
            "[(3, 4), (3, -1), (-2, 4)]\n"
          ]
        }
      ]
    },
    {
      "cell_type": "markdown",
      "source": [
        "#Випадкова генерація координат кінців"
      ],
      "metadata": {
        "id": "TUlAI1tYgo37"
      }
    },
    {
      "cell_type": "code",
      "source": [
        "import numpy as np\n",
        "\n",
        "def generate_random_vector_coordinates(num_vectors, x_range=(-10, 10), y_range=(-10, 10)):\n",
        "    \"\"\"\n",
        "    Функція для випадкової генерації координат точок початку та кінця вектора.\n",
        "\n",
        "    Параметри:\n",
        "    - num_vectors: Кількість векторів, які потрібно згенерувати.\n",
        "    - x_range: Діапазон для генерації координат по осі X.\n",
        "    - y_range: Діапазон для генерації координат по осі Y.\n",
        "\n",
        "    Повертає:\n",
        "    - vectors: Список кортежів (start_point, end_point), де start_point та end_point - це координати початкової та кінцевої точок вектора.\n",
        "    \"\"\"\n",
        "    vectors = []\n",
        "\n",
        "    for _ in range(num_vectors):\n",
        "        start_point = np.random.uniform(x_range[0], x_range[1]), np.random.uniform(y_range[0], y_range[1])\n",
        "        end_point = np.random.uniform(x_range[0], x_range[1]), np.random.uniform(y_range[0], y_range[1])\n",
        "        vectors.append((start_point, end_point))\n",
        "\n",
        "    return vectors\n",
        "\n",
        "# Приклад використання функції для генерації 5 векторів\n",
        "generated_vectors = generate_random_vector_coordinates(5)\n",
        "print(generated_vectors)\n",
        "\n",
        "print(\"Згенеровані координати векторів:\")\n",
        "for i, (start, end) in enumerate(generated_vectors, start=1):\n",
        "    print(f\"Вектор {i}: Початок - {start}, Кінець - {end}\")\n"
      ],
      "metadata": {
        "colab": {
          "base_uri": "https://localhost:8080/"
        },
        "id": "qUuI_BMLgtjy",
        "outputId": "f2f174ea-ba0a-4896-e0e2-f54e2c979c41"
      },
      "execution_count": null,
      "outputs": [
        {
          "output_type": "stream",
          "name": "stdout",
          "text": [
            "[((-5.868023972870531, 7.379116701871794), (0.5321557434697599, 6.567258947930384)), ((3.707554522967129, 8.294403162501997), (-7.290606996858074, 4.743928641647734)), ((4.880314448505407, -8.156124569715274), (4.0977457492440745, -2.429093497747578)), ((3.9878336875685356, -4.797977607057566), (8.647675751147887, -6.940837226419221)), ((-5.743408073898286, -1.6478176044279174), (7.925080413442597, 9.738123785270638))]\n",
            "Згенеровані координати векторів:\n",
            "Вектор 1: Початок - (-5.868023972870531, 7.379116701871794), Кінець - (0.5321557434697599, 6.567258947930384)\n",
            "Вектор 2: Початок - (3.707554522967129, 8.294403162501997), Кінець - (-7.290606996858074, 4.743928641647734)\n",
            "Вектор 3: Початок - (4.880314448505407, -8.156124569715274), Кінець - (4.0977457492440745, -2.429093497747578)\n",
            "Вектор 4: Початок - (3.9878336875685356, -4.797977607057566), Кінець - (8.647675751147887, -6.940837226419221)\n",
            "Вектор 5: Початок - (-5.743408073898286, -1.6478176044279174), Кінець - (7.925080413442597, 9.738123785270638)\n"
          ]
        }
      ]
    },
    {
      "cell_type": "code",
      "source": [
        "vector_components = calculate_vectors_components(generated_vectors)\n",
        "print(vector_components)"
      ],
      "metadata": {
        "colab": {
          "base_uri": "https://localhost:8080/"
        },
        "id": "obXiEogAg5be",
        "outputId": "f0ec3574-63f5-4ae7-bd53-7a5d6e237206"
      },
      "execution_count": null,
      "outputs": [
        {
          "output_type": "stream",
          "name": "stdout",
          "text": [
            "[(6.400179716340291, -0.8118577539414105), (-10.998161519825203, -3.5504745208542623), (-0.7825686992613328, 5.727031071967696), (4.659842063579351, -2.142859619361655), (13.668488487340884, 11.385941389698555)]\n"
          ]
        }
      ]
    },
    {
      "cell_type": "markdown",
      "source": [
        "#Обчислення модуля вектора за координатами кінців"
      ],
      "metadata": {
        "id": "07gD0u2iRWg7"
      }
    },
    {
      "cell_type": "code",
      "source": [
        "import numpy as np\n",
        "\n",
        "def calculate_vector_magnitude(start_point, end_point):\n",
        "    \"\"\"\n",
        "    Обчислення модулю вектора за його координатами початку та кінця.\n",
        "\n",
        "    Параметри:\n",
        "    - start_point: numpy array, координати початку вектора.\n",
        "    - end_point: numpy array, координати кінця вектора.\n",
        "\n",
        "    Повертає:\n",
        "    - Модуль вектора.\n",
        "    \"\"\"\n",
        "    vector = end_point - start_point\n",
        "    return np.linalg.norm(vector)\n",
        "\n",
        "# Приклад використання\n",
        "start_point_2d = np.array([1, 2])\n",
        "end_point_2d = np.array([4, 6])\n",
        "magnitude_2d = calculate_vector_magnitude(start_point_2d, end_point_2d)\n",
        "print(f\"Модуль вектора у просторі R^2: {magnitude_2d}\")\n",
        "\n",
        "start_point_3d = np.array([1, 2, 3])\n",
        "end_point_3d = np.array([4, 6, 8])\n",
        "magnitude_3d = calculate_vector_magnitude(start_point_3d, end_point_3d)\n",
        "print(f\"Модуль вектора у просторі R^3: {magnitude_3d}\")\n"
      ],
      "metadata": {
        "colab": {
          "base_uri": "https://localhost:8080/"
        },
        "id": "lC_4t3xoM2g_",
        "outputId": "ecaede3d-0124-4ef2-bf53-df28a61293aa"
      },
      "execution_count": null,
      "outputs": [
        {
          "output_type": "stream",
          "name": "stdout",
          "text": [
            "Модуль вектора у просторі R^2: 5.0\n",
            "Модуль вектора у просторі R^3: 7.0710678118654755\n"
          ]
        }
      ]
    },
    {
      "cell_type": "markdown",
      "source": [
        "#Напрямні косинуси вектора"
      ],
      "metadata": {
        "id": "9SVWKdEJapxZ"
      }
    },
    {
      "cell_type": "code",
      "source": [
        "def cos_axis(start_point, end_point):\n",
        "    \"\"\"\n",
        "    Обчислення модулю вектора за його координатами початку та кінця.\n",
        "\n",
        "    Параметри:\n",
        "    - start_point: numpy array, координати початку вектора.\n",
        "    - end_point: numpy array, координати кінця вектора.\n",
        "\n",
        "    Повертає:\n",
        "    - Модуль вектора.\n",
        "    \"\"\"\n",
        "    vector = end_point - start_point\n",
        "    return vector/np.linalg.norm(vector)\n",
        "\n",
        "start_point_2d = np.array([1, 2])\n",
        "end_point_2d = np.array([4, 6])\n",
        "cos_axis = cos_axis(start_point_2d, end_point_2d)\n",
        "print(cos_axis)"
      ],
      "metadata": {
        "colab": {
          "base_uri": "https://localhost:8080/"
        },
        "id": "Lc3wAEP9avc3",
        "outputId": "f188dcff-ebbe-419e-e9b8-d1e94494876a"
      },
      "execution_count": null,
      "outputs": [
        {
          "output_type": "stream",
          "name": "stdout",
          "text": [
            "[0.6 0.8]\n"
          ]
        }
      ]
    },
    {
      "cell_type": "markdown",
      "source": [
        "#Сума векторів\n"
      ],
      "metadata": {
        "id": "RBsZ-cUJRkre"
      }
    },
    {
      "cell_type": "code",
      "source": [
        "# tk_coord.vector(0,0,1,3)\n",
        "# tk_coord.vector(1,3,4,4)\n",
        "# tk_coord.vector(0,0,4,4)\n",
        "# tk_coord.root.mainloop()\n",
        "\n",
        "vectors = [((0, 0), (1, 3)), ((1, 3), (4, 4)), ((0, 0), (4, 4))]\n",
        "colors = ['green', 'red', 'purple']\n",
        "\n",
        "draw_vectors(vectors, colors, 'Сума векторів')\n"
      ],
      "metadata": {
        "colab": {
          "base_uri": "https://localhost:8080/",
          "height": 472
        },
        "id": "0UTRx4iKRtSi",
        "outputId": "e35657c0-5625-42f1-eede-841904d381a8"
      },
      "execution_count": null,
      "outputs": [
        {
          "output_type": "display_data",
          "data": {
            "text/plain": [
              "<Figure size 640x480 with 1 Axes>"
            ],
            "image/png": "[encoded data removed]"
          },
          "metadata": {}
        }
      ]
    },
    {
      "cell_type": "code",
      "source": [
        "vector_components = calculate_vectors_components(vectors)\n",
        "print(vector_components)\n"
      ],
      "metadata": {
        "colab": {
          "base_uri": "https://localhost:8080/"
        },
        "id": "K3bH3gIlUZEM",
        "outputId": "ff6ee65a-c67a-4588-ca96-cd83e1cd877f"
      },
      "execution_count": null,
      "outputs": [
        {
          "output_type": "stream",
          "name": "stdout",
          "text": [
            "[(1, 3), (3, 1), (4, 4)]\n"
          ]
        }
      ]
    },
    {
      "cell_type": "markdown",
      "source": [
        "#Різниця векторів"
      ],
      "metadata": {
        "id": "-N8wmlL1U_Tl"
      }
    },
    {
      "cell_type": "code",
      "source": [
        "vectors = [((1, 3), (0, 0)), ((1, 3), (4, 4)), ((0, 0), (4, 4))]\n",
        "colors = ['green', 'red', 'purple']\n",
        "\n",
        "draw_vectors(vectors, colors, 'Різниця векторів')\n"
      ],
      "metadata": {
        "colab": {
          "base_uri": "https://localhost:8080/",
          "height": 472
        },
        "id": "vVJhMJWdVFBL",
        "outputId": "30821ce6-9f13-4478-d416-e11acd47a03f"
      },
      "execution_count": null,
      "outputs": [
        {
          "output_type": "display_data",
          "data": {
            "text/plain": [
              "<Figure size 640x480 with 1 Axes>"
            ],
            "image/png": "[encoded data removed]"
          },
          "metadata": {}
        }
      ]
    },
    {
      "cell_type": "code",
      "source": [
        "vector_components = calculate_vectors_components(vectors)\n",
        "print(vector_components)\n"
      ],
      "metadata": {
        "colab": {
          "base_uri": "https://localhost:8080/"
        },
        "id": "r6ARzCspVH4U",
        "outputId": "8f497795-818a-44c6-8150-e72a7d0ef5e6"
      },
      "execution_count": null,
      "outputs": [
        {
          "output_type": "stream",
          "name": "stdout",
          "text": [
            "[(-1, -3), (3, 1), (4, 4)]\n"
          ]
        }
      ]
    },
    {
      "cell_type": "markdown",
      "source": [
        "#Добуток на скаляр"
      ],
      "metadata": {
        "id": "eIiCducgW0LI"
      }
    },
    {
      "cell_type": "code",
      "source": [
        "vectors = [((0, 0), (1, 3)), ((0, 0), (2, 6))]\n",
        "colors = ['green', 'red']\n",
        "\n",
        "draw_vectors(vectors, colors, 'Добуток на скаляр')\n"
      ],
      "metadata": {
        "colab": {
          "base_uri": "https://localhost:8080/",
          "height": 472
        },
        "id": "0Q4JN4gSW5iF",
        "outputId": "c4f75165-274c-46cf-e14d-e457a19f388f"
      },
      "execution_count": null,
      "outputs": [
        {
          "output_type": "display_data",
          "data": {
            "text/plain": [
              "<Figure size 640x480 with 1 Axes>"
            ],
            "image/png": "[encoded data removed]"
          },
          "metadata": {}
        }
      ]
    },
    {
      "cell_type": "code",
      "source": [
        "vector_components = calculate_vectors_components(vectors)\n",
        "print(vector_components)"
      ],
      "metadata": {
        "colab": {
          "base_uri": "https://localhost:8080/"
        },
        "id": "onJV-qQkXdmy",
        "outputId": "0603777a-b43e-4f1d-f33f-da0585f2690d"
      },
      "execution_count": null,
      "outputs": [
        {
          "output_type": "stream",
          "name": "stdout",
          "text": [
            "[(1, 3), (2, 6)]\n"
          ]
        }
      ]
    },
    {
      "cell_type": "markdown",
      "source": [
        "#Скалярний добуток векторів\n",
        "\n"
      ],
      "metadata": {
        "id": "WZ9SaNHlXvLW"
      }
    },
    {
      "cell_type": "code",
      "source": [
        "import plotly.graph_objects as go\n",
        "import numpy as np\n",
        "\n",
        "def dot_product(vector1_start, vector1_end, vector2_start, vector2_end):\n",
        "    # Обчислюємо вектори\n",
        "    vector1 = np.array(vector1_end) - np.array(vector1_start)\n",
        "    vector2 = np.array(vector2_end) - np.array(vector2_start)\n",
        "\n",
        "    # Обчислюємо скалярний добуток\n",
        "    scalar_product = np.dot(vector1, vector2)\n",
        "\n",
        "    return scalar_product\n",
        "\n",
        "\n",
        "# Задаємо координати векторів\n",
        "vector1_start = [1, 2]\n",
        "vector1_end = [4, 6]\n",
        "\n",
        "vector2_start = [3, 1]\n",
        "vector2_end = [6, 3]\n",
        "\n",
        "dot_product(vector1_start, vector1_end, vector2_start, vector2_end)\n",
        "\n"
      ],
      "metadata": {
        "colab": {
          "base_uri": "https://localhost:8080/"
        },
        "id": "r3awUDkqTe4k",
        "outputId": "1f20b3cd-f33b-4d18-8b7d-873a3a5ded32"
      },
      "execution_count": null,
      "outputs": [
        {
          "output_type": "execute_result",
          "data": {
            "text/plain": [
              "17"
            ]
          },
          "metadata": {},
          "execution_count": 33
        }
      ]
    },
    {
      "cell_type": "markdown",
      "source": [
        "#Косинус кута між векторами"
      ],
      "metadata": {
        "id": "XnXCGC1iYm9U"
      }
    },
    {
      "cell_type": "code",
      "source": [
        "import numpy as np\n",
        "\n",
        "def calculate_cosine_angle(vector1, vector2):\n",
        "    \"\"\"\n",
        "    Функція для визначення косинусного кута між двома векторами.\n",
        "\n",
        "    Параметри:\n",
        "    - vector1: Кортеж (x1, y1) з координатами кінця першого вектора.\n",
        "    - vector2: Кортеж (x2, y2) з координатами кінця другого вектора.\n",
        "\n",
        "    Повертає:\n",
        "    - cosine_angle: Косинус кута між векторами.\n",
        "    \"\"\"\n",
        "    dot_product = np.dot(vector1, vector2)\n",
        "    magnitude_vector1 = np.linalg.norm(vector1)\n",
        "    magnitude_vector2 = np.linalg.norm(vector2)\n",
        "\n",
        "    cosine_angle = dot_product / (magnitude_vector1 * magnitude_vector2)\n",
        "    return cosine_angle\n",
        "\n",
        "# Приклад використання функції з двома векторами\n",
        "vector1 = (3, 4)\n",
        "vector2 = (1, 2)\n",
        "\n",
        "cosine_angle = calculate_cosine_angle(vector1, vector2)\n",
        "angle_degrees = np.degrees(np.arccos(cosine_angle))\n",
        "\n",
        "print(f\"Косинусний кут між векторами: {cosine_angle:.2f}\")\n",
        "print(f\"Кут між векторами у градусах: {angle_degrees:.2f}\")\n"
      ],
      "metadata": {
        "colab": {
          "base_uri": "https://localhost:8080/"
        },
        "id": "UdiZ2cBbY5tR",
        "outputId": "e34622bf-de1b-4ae4-9078-ce4010058488"
      },
      "execution_count": null,
      "outputs": [
        {
          "output_type": "stream",
          "name": "stdout",
          "text": [
            "Косинусний кут між векторами: 0.98\n",
            "Кут між векторами у градусах: 10.30\n"
          ]
        }
      ]
    },
    {
      "cell_type": "markdown",
      "source": [
        "#Побудова точок та векторів"
      ],
      "metadata": {
        "id": "yCzC06l8xURF"
      }
    },
    {
      "cell_type": "code",
      "source": [
        "import plotly.graph_objects as go\n",
        "\n",
        "# Координати трьох точок\n",
        "point1 = [1, -1, 2]\n",
        "point2 = [5, -6, 2]\n",
        "point3 = [1, 3, -1]\n",
        "\n",
        "# Створення трьох тривимірних точок\n",
        "trace = go.Scatter3d(\n",
        "    x=[point1[0], point2[0], point3[0]],\n",
        "    y=[point1[1], point2[1], point3[1]],\n",
        "    z=[point1[2], point2[2], point3[2]],\n",
        "    mode='markers',\n",
        "    marker=dict(size=8, color=['red', 'green', 'blue']),\n",
        "    text=['Point 1', 'Point 2', 'Point 3']\n",
        ")\n",
        "\n",
        "# Створення трьох векторів\n",
        "vector1 = go.Scatter3d(\n",
        "    x=[point1[0], point2[0]],\n",
        "    y=[point1[1], point2[1]],\n",
        "    z=[point1[2], point2[2]],\n",
        "    mode='lines',\n",
        "    line=dict(color='red', width=4),\n",
        "    text=['Vector AB']\n",
        ")\n",
        "\n",
        "vector2 = go.Scatter3d(\n",
        "    x=[point1[0], point3[0]],\n",
        "    y=[point1[1], point3[1]],\n",
        "    z=[point1[2], point3[2]],\n",
        "    mode='lines',\n",
        "    line=dict(color='green', width=4),\n",
        "    text=['Vector AC']\n",
        ")\n",
        "\n",
        "\n",
        "# Створення трьох векторів\n",
        "layout = go.Layout(scene=dict(aspectmode='cube'))\n",
        "fig = go.Figure(data=[trace, vector1, vector2], layout=layout)\n",
        "\n",
        "# Показ графіка\n",
        "fig.show()\n"
      ],
      "metadata": {
        "colab": {
          "base_uri": "https://localhost:8080/",
          "height": 542
        },
        "id": "e-gy7_ZexeSH",
        "outputId": "59a44916-9af0-4d0e-f93d-b9d8e507b333"
      },
      "execution_count": null,
      "outputs": [
        {
          "output_type": "display_data",
          "data": {
            "text/html": [
              "<html>\n",
              "<head><meta charset=\"utf-8\" /></head>\n",
              "<body>\n",
              "    <div>            <script src=\"https://cdnjs.cloudflare.com/ajax/libs/mathjax/2.7.5/MathJax.js?config=TeX-AMS-MML_SVG\"></script><script type=\"text/javascript\">if (window.MathJax && window.MathJax.Hub && window.MathJax.Hub.Config) {window.MathJax.Hub.Config({SVG: {font: \"STIX-Web\"}});}</script>                <script type=\"text/javascript\">window.PlotlyConfig = {MathJaxConfig: 'local'};</script>\n",
              "        <script charset=\"utf-8\" src=\"https://cdn.plot.ly/plotly-2.24.1.min.js\"></script>                <div id=\"1502133f-608c-4938-b23a-b7989a706bff\" class=\"plotly-graph-div\" style=\"height:525px; width:100%;\"></div>            <script type=\"text/javascript\">                                    window.PLOTLYENV=window.PLOTLYENV || {};                                    if (document.getElementById(\"1502133f-608c-4938-b23a-b7989a706bff\")) {                    Plotly.newPlot(                        \"1502133f-608c-4938-b23a-b7989a706bff\",                        [{\"marker\":{\"color\":[\"red\",\"green\",\"blue\"],\"size\":8},\"mode\":\"markers\",\"text\":[\"Point 1\",\"Point 2\",\"Point 3\"],\"x\":[1,5,1],\"y\":[-1,-6,3],\"z\":[2,2,-1],\"type\":\"scatter3d\"},{\"line\":{\"color\":\"red\",\"width\":4},\"mode\":\"lines\",\"text\":[\"Vector AB\"],\"x\":[1,5],\"y\":[-1,-6],\"z\":[2,2],\"type\":\"scatter3d\"},{\"line\":{\"color\":\"green\",\"width\":4},\"mode\":\"lines\",\"text\":[\"Vector AC\"],\"x\":[1,1],\"y\":[-1,3],\"z\":[2,-1],\"type\":\"scatter3d\"}],                        {\"scene\":{\"aspectmode\":\"cube\"},\"template\":{\"data\":{\"histogram2dcontour\":[{\"type\":\"histogram2dcontour\",\"colorbar\":{\"outlinewidth\":0,\"ticks\":\"\"},\"colorscale\":[[0.0,\"#0d0887\"],[0.1111111111111111,\"#46039f\"],[0.2222222222222222,\"#7201a8\"],[0.3333333333333333,\"#9c179e\"],[0.4444444444444444,\"#bd3786\"],[0.5555555555555556,\"#d8576b\"],[0.6666666666666666,\"#ed7953\"],[0.7777777777777778,\"#fb9f3a\"],[0.8888888888888888,\"#fdca26\"],[1.0,\"#f0f921\"]]}],\"choropleth\":[{\"type\":\"choropleth\",\"colorbar\":{\"outlinewidth\":0,\"ticks\":\"\"}}],\"histogram2d\":[{\"type\":\"histogram2d\",\"colorbar\":{\"outlinewidth\":0,\"ticks\":\"\"},\"colorscale\":[[0.0,\"#0d0887\"],[0.1111111111111111,\"#46039f\"],[0.2222222222222222,\"#7201a8\"],[0.3333333333333333,\"#9c179e\"],[0.4444444444444444,\"#bd3786\"],[0.5555555555555556,\"#d8576b\"],[0.6666666666666666,\"#ed7953\"],[0.7777777777777778,\"#fb9f3a\"],[0.8888888888888888,\"#fdca26\"],[1.0,\"#f0f921\"]]}],\"heatmap\":[{\"type\":\"heatmap\",\"colorbar\":{\"outlinewidth\":0,\"ticks\":\"\"},\"colorscale\":[[0.0,\"#0d0887\"],[0.1111111111111111,\"#46039f\"],[0.2222222222222222,\"#7201a8\"],[0.3333333333333333,\"#9c179e\"],[0.4444444444444444,\"#bd3786\"],[0.5555555555555556,\"#d8576b\"],[0.6666666666666666,\"#ed7953\"],[0.7777777777777778,\"#fb9f3a\"],[0.8888888888888888,\"#fdca26\"],[1.0,\"#f0f921\"]]}],\"heatmapgl\":[{\"type\":\"heatmapgl\",\"colorbar\":{\"outlinewidth\":0,\"ticks\":\"\"},\"colorscale\":[[0.0,\"#0d0887\"],[0.1111111111111111,\"#46039f\"],[0.2222222222222222,\"#7201a8\"],[0.3333333333333333,\"#9c179e\"],[0.4444444444444444,\"#bd3786\"],[0.5555555555555556,\"#d8576b\"],[0.6666666666666666,\"#ed7953\"],[0.7777777777777778,\"#fb9f3a\"],[0.8888888888888888,\"#fdca26\"],[1.0,\"#f0f921\"]]}],\"contourcarpet\":[{\"type\":\"contourcarpet\",\"colorbar\":{\"outlinewidth\":0,\"ticks\":\"\"}}],\"contour\":[{\"type\":\"contour\",\"colorbar\":{\"outlinewidth\":0,\"ticks\":\"\"},\"colorscale\":[[0.0,\"#0d0887\"],[0.1111111111111111,\"#46039f\"],[0.2222222222222222,\"#7201a8\"],[0.3333333333333333,\"#9c179e\"],[0.4444444444444444,\"#bd3786\"],[0.5555555555555556,\"#d8576b\"],[0.6666666666666666,\"#ed7953\"],[0.7777777777777778,\"#fb9f3a\"],[0.8888888888888888,\"#fdca26\"],[1.0,\"#f0f921\"]]}],\"surface\":[{\"type\":\"surface\",\"colorbar\":{\"outlinewidth\":0,\"ticks\":\"\"},\"colorscale\":[[0.0,\"#0d0887\"],[0.1111111111111111,\"#46039f\"],[0.2222222222222222,\"#7201a8\"],[0.3333333333333333,\"#9c179e\"],[0.4444444444444444,\"#bd3786\"],[0.5555555555555556,\"#d8576b\"],[0.6666666666666666,\"#ed7953\"],[0.7777777777777778,\"#fb9f3a\"],[0.8888888888888888,\"#fdca26\"],[1.0,\"#f0f921\"]]}],\"mesh3d\":[{\"type\":\"mesh3d\",\"colorbar\":{\"outlinewidth\":0,\"ticks\":\"\"}}],\"scatter\":[{\"fillpattern\":{\"fillmode\":\"overlay\",\"size\":10,\"solidity\":0.2},\"type\":\"scatter\"}],\"parcoords\":[{\"type\":\"parcoords\",\"line\":{\"colorbar\":{\"outlinewidth\":0,\"ticks\":\"\"}}}],\"scatterpolargl\":[{\"type\":\"scatterpolargl\",\"marker\":{\"colorbar\":{\"outlinewidth\":0,\"ticks\":\"\"}}}],\"bar\":[{\"error_x\":{\"color\":\"#2a3f5f\"},\"error_y\":{\"color\":\"#2a3f5f\"},\"marker\":{\"line\":{\"color\":\"#E5ECF6\",\"width\":0.5},\"pattern\":{\"fillmode\":\"overlay\",\"size\":10,\"solidity\":0.2}},\"type\":\"bar\"}],\"scattergeo\":[{\"type\":\"scattergeo\",\"marker\":{\"colorbar\":{\"outlinewidth\":0,\"ticks\":\"\"}}}],\"scatterpolar\":[{\"type\":\"scatterpolar\",\"marker\":{\"colorbar\":{\"outlinewidth\":0,\"ticks\":\"\"}}}],\"histogram\":[{\"marker\":{\"pattern\":{\"fillmode\":\"overlay\",\"size\":10,\"solidity\":0.2}},\"type\":\"histogram\"}],\"scattergl\":[{\"type\":\"scattergl\",\"marker\":{\"colorbar\":{\"outlinewidth\":0,\"ticks\":\"\"}}}],\"scatter3d\":[{\"type\":\"scatter3d\",\"line\":{\"colorbar\":{\"outlinewidth\":0,\"ticks\":\"\"}},\"marker\":{\"colorbar\":{\"outlinewidth\":0,\"ticks\":\"\"}}}],\"scattermapbox\":[{\"type\":\"scattermapbox\",\"marker\":{\"colorbar\":{\"outlinewidth\":0,\"ticks\":\"\"}}}],\"scatterternary\":[{\"type\":\"scatterternary\",\"marker\":{\"colorbar\":{\"outlinewidth\":0,\"ticks\":\"\"}}}],\"scattercarpet\":[{\"type\":\"scattercarpet\",\"marker\":{\"colorbar\":{\"outlinewidth\":0,\"ticks\":\"\"}}}],\"carpet\":[{\"aaxis\":{\"endlinecolor\":\"#2a3f5f\",\"gridcolor\":\"white\",\"linecolor\":\"white\",\"minorgridcolor\":\"white\",\"startlinecolor\":\"#2a3f5f\"},\"baxis\":{\"endlinecolor\":\"#2a3f5f\",\"gridcolor\":\"white\",\"linecolor\":\"white\",\"minorgridcolor\":\"white\",\"startlinecolor\":\"#2a3f5f\"},\"type\":\"carpet\"}],\"table\":[{\"cells\":{\"fill\":{\"color\":\"#EBF0F8\"},\"line\":{\"color\":\"white\"}},\"header\":{\"fill\":{\"color\":\"#C8D4E3\"},\"line\":{\"color\":\"white\"}},\"type\":\"table\"}],\"barpolar\":[{\"marker\":{\"line\":{\"color\":\"#E5ECF6\",\"width\":0.5},\"pattern\":{\"fillmode\":\"overlay\",\"size\":10,\"solidity\":0.2}},\"type\":\"barpolar\"}],\"pie\":[{\"automargin\":true,\"type\":\"pie\"}]},\"layout\":{\"autotypenumbers\":\"strict\",\"colorway\":[\"#636efa\",\"#EF553B\",\"#00cc96\",\"#ab63fa\",\"#FFA15A\",\"#19d3f3\",\"#FF6692\",\"#B6E880\",\"#FF97FF\",\"#FECB52\"],\"font\":{\"color\":\"#2a3f5f\"},\"hovermode\":\"closest\",\"hoverlabel\":{\"align\":\"left\"},\"paper_bgcolor\":\"white\",\"plot_bgcolor\":\"#E5ECF6\",\"polar\":{\"bgcolor\":\"#E5ECF6\",\"angularaxis\":{\"gridcolor\":\"white\",\"linecolor\":\"white\",\"ticks\":\"\"},\"radialaxis\":{\"gridcolor\":\"white\",\"linecolor\":\"white\",\"ticks\":\"\"}},\"ternary\":{\"bgcolor\":\"#E5ECF6\",\"aaxis\":{\"gridcolor\":\"white\",\"linecolor\":\"white\",\"ticks\":\"\"},\"baxis\":{\"gridcolor\":\"white\",\"linecolor\":\"white\",\"ticks\":\"\"},\"caxis\":{\"gridcolor\":\"white\",\"linecolor\":\"white\",\"ticks\":\"\"}},\"coloraxis\":{\"colorbar\":{\"outlinewidth\":0,\"ticks\":\"\"}},\"colorscale\":{\"sequential\":[[0.0,\"#0d0887\"],[0.1111111111111111,\"#46039f\"],[0.2222222222222222,\"#7201a8\"],[0.3333333333333333,\"#9c179e\"],[0.4444444444444444,\"#bd3786\"],[0.5555555555555556,\"#d8576b\"],[0.6666666666666666,\"#ed7953\"],[0.7777777777777778,\"#fb9f3a\"],[0.8888888888888888,\"#fdca26\"],[1.0,\"#f0f921\"]],\"sequentialminus\":[[0.0,\"#0d0887\"],[0.1111111111111111,\"#46039f\"],[0.2222222222222222,\"#7201a8\"],[0.3333333333333333,\"#9c179e\"],[0.4444444444444444,\"#bd3786\"],[0.5555555555555556,\"#d8576b\"],[0.6666666666666666,\"#ed7953\"],[0.7777777777777778,\"#fb9f3a\"],[0.8888888888888888,\"#fdca26\"],[1.0,\"#f0f921\"]],\"diverging\":[[0,\"#8e0152\"],[0.1,\"#c51b7d\"],[0.2,\"#de77ae\"],[0.3,\"#f1b6da\"],[0.4,\"#fde0ef\"],[0.5,\"#f7f7f7\"],[0.6,\"#e6f5d0\"],[0.7,\"#b8e186\"],[0.8,\"#7fbc41\"],[0.9,\"#4d9221\"],[1,\"#276419\"]]},\"xaxis\":{\"gridcolor\":\"white\",\"linecolor\":\"white\",\"ticks\":\"\",\"title\":{\"standoff\":15},\"zerolinecolor\":\"white\",\"automargin\":true,\"zerolinewidth\":2},\"yaxis\":{\"gridcolor\":\"white\",\"linecolor\":\"white\",\"ticks\":\"\",\"title\":{\"standoff\":15},\"zerolinecolor\":\"white\",\"automargin\":true,\"zerolinewidth\":2},\"scene\":{\"xaxis\":{\"backgroundcolor\":\"#E5ECF6\",\"gridcolor\":\"white\",\"linecolor\":\"white\",\"showbackground\":true,\"ticks\":\"\",\"zerolinecolor\":\"white\",\"gridwidth\":2},\"yaxis\":{\"backgroundcolor\":\"#E5ECF6\",\"gridcolor\":\"white\",\"linecolor\":\"white\",\"showbackground\":true,\"ticks\":\"\",\"zerolinecolor\":\"white\",\"gridwidth\":2},\"zaxis\":{\"backgroundcolor\":\"#E5ECF6\",\"gridcolor\":\"white\",\"linecolor\":\"white\",\"showbackground\":true,\"ticks\":\"\",\"zerolinecolor\":\"white\",\"gridwidth\":2}},\"shapedefaults\":{\"line\":{\"color\":\"#2a3f5f\"}},\"annotationdefaults\":{\"arrowcolor\":\"#2a3f5f\",\"arrowhead\":0,\"arrowwidth\":1},\"geo\":{\"bgcolor\":\"white\",\"landcolor\":\"#E5ECF6\",\"subunitcolor\":\"white\",\"showland\":true,\"showlakes\":true,\"lakecolor\":\"white\"},\"title\":{\"x\":0.05},\"mapbox\":{\"style\":\"light\"}}}},                        {\"responsive\": true}                    ).then(function(){\n",
              "                            \n",
              "var gd = document.getElementById('1502133f-608c-4938-b23a-b7989a706bff');\n",
              "var x = new MutationObserver(function (mutations, observer) {{\n",
              "        var display = window.getComputedStyle(gd).display;\n",
              "        if (!display || display === 'none') {{\n",
              "            console.log([gd, 'removed!']);\n",
              "            Plotly.purge(gd);\n",
              "            observer.disconnect();\n",
              "        }}\n",
              "}});\n",
              "\n",
              "// Listen for the removal of the full notebook cells\n",
              "var notebookContainer = gd.closest('#notebook-container');\n",
              "if (notebookContainer) {{\n",
              "    x.observe(notebookContainer, {childList: true});\n",
              "}}\n",
              "\n",
              "// Listen for the clearing of the current output cell\n",
              "var outputEl = gd.closest('.output');\n",
              "if (outputEl) {{\n",
              "    x.observe(outputEl, {childList: true});\n",
              "}}\n",
              "\n",
              "                        })                };                            </script>        </div>\n",
              "</body>\n",
              "</html>"
            ]
          },
          "metadata": {}
        }
      ]
    }
  ]
}