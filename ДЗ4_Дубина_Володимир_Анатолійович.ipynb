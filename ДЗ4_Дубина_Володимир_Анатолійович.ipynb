{
 "nbformat": 4,
 "nbformat_minor": 0,
 "metadata": {
  "colab": {
   "provenance": []
  },
  "kernelspec": {
   "name": "python3",
   "display_name": "Python 3 (ipykernel)",
   "language": "python"
  },
  "language_info": {
   "name": "python"
  }
 },
 "cells": [
  {
   "cell_type": "markdown",
   "source": [
    "Вам можуть знадобитись такі символи:\n",
    "\n",
    "\n",
    "Символ | Код\n",
    "--- | ---\n",
    "$\\wedge$ | \\\\$\\wedge\\\\$\n",
    "$\\vee$ | \\\\$\\vee\\\\$\n",
    "$\\neg$ | \\\\$\\neg\\\\$\n",
    "$\\rightarrow$ | \\\\$\\rightarrow\\\\$\n",
    "$\\oplus$ | \\\\$\\oplus\\\\$\n",
    "$\\equiv$ | \\\\$\\equiv\\\\$\n",
    "$\\Leftrightarrow$ | \\\\$\\Leftrightarrow\\\\$"
   ],
   "metadata": {
    "id": "xJ6EpMRR0Ko1"
   }
  },
  {
   "cell_type": "markdown",
   "source": [
    "## Завдання 1\n",
    "Запишіть наступні висловлювання у математичній формі та складіть для них таблиці істиності:"
   ],
   "metadata": {
    "id": "yKUL8_WRy1WO"
   }
  },
  {
   "cell_type": "markdown",
   "source": [
    "a) “Морті прийде на вечірку (A) тоді й тільки тоді, коли Джесіка прийде на вечірку(B), а Рік не прийде(C)”.\n",
    "\n",
    "A - Морті прийде на вечірку. \\\n",
    "B - Джесіка прийде на вечірку. \\\n",
    "С - Рік прийде на вечірку.\n",
    "\n",
    "$X = A \\Leftrightarrow (B \\wedge \\neg C)$\n",
    "\n",
    "$$\n",
    "\\begin{array} {|r|r|}\\hline\n",
    "A & B & C & X \\\\ \\hline\n",
    "1 & 1 & 1 & 0 \\\\ \\hline\n",
    "0 & 1 & 1 & 0 \\\\ \\hline\n",
    "1 & 0 & 1 & 0 \\\\ \\hline\n",
    "0 & 0 & 1 & 0 \\\\ \\hline\n",
    "1 & 1 & 0 & 1 \\\\ \\hline\n",
    "0 & 1 & 0 & 1 \\\\ \\hline\n",
    "1 & 0 & 0 & 0 \\\\ \\hline\n",
    "0 & 0 & 0 & 0 \\\\ \\hline\n",
    "\\end{array}\n",
    "$$"
   ],
   "metadata": {
    "id": "O0k_O_SOy2eP"
   }
  },
  {
   "cell_type": "markdown",
   "source": [
    "b) “Якщо ми успішно виконаємо домашнє завдання з математичної логіки (A), то ми отримаємо заліковий бал (B) або візьмемо участь у науковому семінарі (C), водночас якщо ми візьмемо участь у науковому семінарі і отримаємо заліковий бал, то достроково складемо іспит з математичної логіки (D)”.\n",
    "\n",
    "A - Ми успішно виконаємо домашнє завдання з математичної логіки. \\\n",
    "B - Ми отримаємо заліковий бал. \\\n",
    "C - Ми візьмемо участь у науковому семінарі. \\\n",
    "D - Ми достроково складемо іспит з математичної логіки.\n",
    "\n",
    "$X = (A \\rightarrow (B \\vee C)) \\wedge ((B \\wedge C) \\rightarrow D)$\n",
    "\n",
    "$$\n",
    "\\begin{array} {|r|r|}\\hline\n",
    "A & B & C & D & X \\\\ \\hline\n",
    "1 & 1 & 1 & 1 & 1 \\\\ \\hline\n",
    "0 & 1 & 1 & 1 & 1 \\\\ \\hline\n",
    "1 & 0 & 1 & 1 & 1 \\\\ \\hline\n",
    "0 & 0 & 1 & 1 & 1 \\\\ \\hline\n",
    "1 & 1 & 0 & 1 & 1 \\\\ \\hline\n",
    "0 & 1 & 0 & 1 & 1 \\\\ \\hline\n",
    "1 & 0 & 0 & 1 & 0 \\\\ \\hline\n",
    "0 & 0 & 0 & 1 & 1 \\\\ \\hline\n",
    "1 & 1 & 1 & 0 & 0 \\\\ \\hline\n",
    "0 & 1 & 1 & 0 & 0 \\\\ \\hline\n",
    "1 & 0 & 1 & 0 & 1 \\\\ \\hline\n",
    "0 & 0 & 1 & 0 & 1 \\\\ \\hline\n",
    "1 & 1 & 0 & 0 & 1 \\\\ \\hline\n",
    "0 & 1 & 0 & 0 & 1 \\\\ \\hline\n",
    "1 & 0 & 0 & 0 & 0 \\\\ \\hline  \n",
    "0 & 0 & 0 & 0 & 1 \\\\ \\hline\n",
    "\\end{array}\n",
    "$$"
   ],
   "metadata": {
    "id": "YO3StJEgy2w5"
   }
  },
  {
   "cell_type": "markdown",
   "source": [
    "## Завдання 2\n",
    "Із 40 програмістів 18 володіють мовою Python, 19 — мовою С++, 21 — мовою Java. Відомо, що 10 програмістів знають одночасно Python і С++, 7 — Python і Java, 8 — C++ і Java. Троє програмістів не володіють жодною із мов Python, С++, Java. Знайти кількість програмістів, які одночасно знають усі три мови програмування."
   ],
   "metadata": {
    "id": "7n3tjLJey3Ho"
   }
  },
  {
   "cell_type": "markdown",
   "source": [],
   "metadata": {
    "id": "NE6dRJKmy7za"
   }
  },
  {
   "metadata": {
    "ExecuteTime": {
     "end_time": "2024-08-31T09:45:45.591783Z",
     "start_time": "2024-08-31T09:45:45.580962Z"
    }
   },
   "cell_type": "code",
   "source": [
    "from sympy import symbols, solve, Eq\n",
    "from sympy.printing.latex import latex\n",
    "from IPython.display import display, Markdown\n",
    "\n",
    "# Визначаємо змінні\n",
    "P, C, J, PC, PJ, CJ, x = symbols('P C J PC PJ CJ x')\n",
    "\n",
    "# Відомі значення\n",
    "P_val = 18  # Програмісти, які знають Python\n",
    "C_val = 19  # Програмісти, які знають C++\n",
    "J_val = 21  # Програмісти, які знають Java\n",
    "PC_val = 10  # Програмісти, які знають одночасно Python і C++\n",
    "PJ_val = 7   # Програмісти, які знають одночасно Python і Java\n",
    "CJ_val = 8   # Програмісти, які знають одночасно C++ і Java\n",
    "total_programmers = 40\n",
    "no_language = 3\n",
    "\n",
    "# Кількість програмістів, які знають хоча б одну мову\n",
    "P_union_C_union_J_val = total_programmers - no_language\n",
    "\n",
    "# Формула включення-виключення\n",
    "P_union_C_union_J = P + C + J - PC - PJ - CJ + x\n",
    "\n",
    "# Підставляємо відомі значення в рівняння\n",
    "equation = Eq(P_union_C_union_J, P_union_C_union_J_val).subs({\n",
    "    P: P_val,\n",
    "    C: C_val,\n",
    "    J: J_val,\n",
    "    PC: PC_val,\n",
    "    PJ: PJ_val,\n",
    "    CJ: CJ_val\n",
    "})\n",
    "\n",
    "# Розв'язуємо рівняння для x\n",
    "solution_x = solve(equation, x)[0]\n",
    "\n",
    "# Опис кроків\n",
    "steps = [\n",
    "    (\"Порахуємо кількість програмістів, які знають хоча б одну мову:\",\n",
    "     f\"$P \\\\cup C \\\\cup J = {total_programmers} - {no_language} = {P_union_C_union_J_val}$\"),\n",
    "\n",
    "    (\"Застосуємо принцип включення-виключення:\",\n",
    "     f\"$P \\\\cup C \\\\cup J = P + C + J - (P \\\\cap C) - (P \\\\cap J) - (C \\\\cap J) + (P \\\\cap C \\\\cap J)$\"),\n",
    "    \n",
    "    (\"x у нашому випадку дорівнює:\",\n",
    "     f\"$(P \\\\cap C \\\\cap J)$. Тому $P \\\\cup C \\\\cup J = P + C + J - (P \\\\cap C) - (P \\\\cap J) - (C \\\\cap J) + x$\"),\n",
    "\n",
    "    (\"Підставимо відомі значення в рівняння і розвяжемо його:\",\n",
    "     f\"${latex(Eq(P_val + C_val + J_val - PC_val - PJ_val - CJ_val + x, P_union_C_union_J_val))}$\"),\n",
    "\n",
    "    (\"Тепер знайдемо x:\",\n",
    "     latex(equation) + f\"$\\\\quad \\\\Rightarrow \\\\quad x = {solution_x}$\"),\n",
    "\n",
    "    (\"Висновок:\",\n",
    "     f\"Кількість програмістів, які знають усі три мови ($P \\\\cap C \\\\cap J)$: x = {solution_x}\")\n",
    "]\n",
    "\n",
    "# Визначення змінних та їх опис\n",
    "descriptions = [\n",
    "    (r\"P\", P_val, \"кількість програмістів, які знають Python\"),\n",
    "    (r\"C\", C_val, \"кількість програмістів, які знають C++\"),\n",
    "    (r\"J\", J_val, \"кількість програмістів, які знають Java\"),\n",
    "    (r\"P \\cap C\", PC_val, \"кількість програмістів, які знають одночасно Python і C++\"),\n",
    "    (r\"P \\cap J\", PJ_val, \"кількість програмістів, які знають одночасно Python і Java\"),\n",
    "    (r\"C \\cap J\", CJ_val, \"кількість програмістів, які знають одночасно C++ і Java\"),\n",
    "    (r\"P \\cup C \\cup J\", P_union_C_union_J_val, \"кількість програмістів, які знають хоча б одну з мов\"),\n",
    "]\n",
    "\n",
    "# Створення списку з описами змінних у форматі LaTeX\n",
    "latex_list = \"\\n\".join([f\"* ${desc[0]} = {desc[1]}$ — {desc[2]}.\" for desc in descriptions])\n",
    "\n",
    "# Генерація Markdown-контенту\n",
    "markdown_content = \"## Розв'язок:\\n\"\n",
    "markdown_content += f\"{latex_list} \\n\"\n",
    "for step, explanation in steps:\n",
    "    markdown_content += f\"1. **{step}**\\n   {explanation}\\n\\n\"\n",
    "\n",
    "# Відображення контенту у форматі Markdown\n",
    "display(Markdown(markdown_content))"
   ],
   "outputs": [
    {
     "data": {
      "text/plain": [
       "<IPython.core.display.Markdown object>"
      ],
      "text/markdown": "## Розв'язок:\n* $P = 18$ — кількість програмістів, які знають Python.\n* $C = 19$ — кількість програмістів, які знають C++.\n* $J = 21$ — кількість програмістів, які знають Java.\n* $P \\cap C = 10$ — кількість програмістів, які знають одночасно Python і C++.\n* $P \\cap J = 7$ — кількість програмістів, які знають одночасно Python і Java.\n* $C \\cap J = 8$ — кількість програмістів, які знають одночасно C++ і Java.\n* $P \\cup C \\cup J = 37$ — кількість програмістів, які знають хоча б одну з мов. \n1. **Порахуємо кількість програмістів, які знають хоча б одну мову:**\n   $P \\cup C \\cup J = 40 - 3 = 37$\n\n1. **Застосуємо принцип включення-виключення:**\n   $P \\cup C \\cup J = P + C + J - (P \\cap C) - (P \\cap J) - (C \\cap J) + (P \\cap C \\cap J)$\n\n1. **x у нашому випадку дорівнює:**\n   $(P \\cap C \\cap J)$. Тому $P \\cup C \\cup J = P + C + J - (P \\cap C) - (P \\cap J) - (C \\cap J) + x$\n\n1. **Підставимо відомі значення в рівняння і розвяжемо його:**\n   $x + 33 = 37$\n\n1. **Тепер знайдемо x:**\n   x + 33 = 37$\\quad \\Rightarrow \\quad x = 4$\n\n1. **Висновок:**\n   Кількість програмістів, які знають усі три мови ($P \\cap C \\cap J)$: x = 4\n\n"
     },
     "metadata": {},
     "output_type": "display_data"
    }
   ],
   "execution_count": 47
  },
  {
   "metadata": {
    "ExecuteTime": {
     "end_time": "2024-08-31T12:26:46.899445Z",
     "start_time": "2024-08-31T12:26:46.849616Z"
    }
   },
   "cell_type": "code",
   "source": [
    "import matplotlib.pyplot as plt\n",
    "from matplotlib_venn import venn3\n",
    "\n",
    "# Відомі значення\n",
    "P_val = 18  # Програмісти, які знають Python\n",
    "C_val = 19  # Програмісти, які знають C++\n",
    "J_val = 21  # Програмісти, які знають Java\n",
    "PC_val = 10  # Програмісти, які знають одночасно Python і C++\n",
    "PJ_val = 7   # Програмісти, які знають одночасно Python і Java\n",
    "CJ_val = 8   # Програмісти, які знають одночасно C++ і Java\n",
    "x_val = 4    # Програмісти, які знають усі три мови (вираховано раніше)\n",
    "\n",
    "# Обчислюємо значення для діаграми Венна\n",
    "only_P = P_val - PC_val - PJ_val + x_val  # Тільки Python\n",
    "only_C = C_val - PC_val - CJ_val + x_val  # Тільки C++\n",
    "only_J = J_val - PJ_val - CJ_val + x_val  # Тільки Java\n",
    "P_and_C_only = PC_val - x_val             # Python і C++, але не Java\n",
    "P_and_J_only = PJ_val - x_val             # Python і Java, але не C++\n",
    "C_and_J_only = CJ_val - x_val             # C++ і Java, але не Python\n",
    "P_and_C_and_J = x_val                     # Python, C++ і Java\n",
    "\n",
    "# Створюємо діаграму Венна\n",
    "plt.figure(figsize=(8, 8))\n",
    "venn = venn3(subsets=(only_P, only_C, P_and_C_only, only_J, P_and_J_only, C_and_J_only, P_and_C_and_J),\n",
    "             set_labels=('Python', 'C++', 'Java'))\n",
    "\n",
    "# Відображення діаграми\n",
    "plt.title(\"Діаграма Венна для програмістів, які знають різні мови\")\n",
    "plt.show()"
   ],
   "outputs": [
    {
     "data": {
      "text/plain": [
       "<Figure size 800x800 with 1 Axes>"
      ],
      "image/png": "[encoded data removed]"
     },
     "metadata": {},
     "output_type": "display_data"
    }
   ],
   "execution_count": 54
  },
  {
   "metadata": {},
   "cell_type": "code",
   "outputs": [],
   "execution_count": null,
   "source": ""
  }
 ]
}
